{
 "cells": [
  {
   "cell_type": "code",
   "execution_count": 1,
   "metadata": {},
   "outputs": [],
   "source": [
    "import pandas as pd \n",
    "import numpy as np\n",
    "import os      \n",
    "import matplotlib.pyplot as plt\n",
    "import seaborn as sns\n",
    "from datetime import datetime\n",
    "import time \n",
    "from sklearn.metrics import mean_squared_error\n",
    "path=\"/home/nakajo/GT_Kids/Results/ML_data/\""
   ]
  },
  {
   "cell_type": "code",
   "execution_count": 2,
   "metadata": {},
   "outputs": [],
   "source": [
    "df_KID1_ml=pd.read_pickle(\"df_KID1_ml.pkl\")\n",
    "df_KID3_ml=pd.read_pickle(\"df_KID3_ml.pkl\")\n",
    "df_KID7_ml=pd.read_pickle(\"df_KID7_ml.pkl\")\n",
    "df_KID9_ml=pd.read_pickle(\"df_KID9_ml.pkl\")\n",
    "df_KID11_ml=pd.read_pickle(\"df_KID11_ml.pkl\")"
   ]
  },
  {
   "cell_type": "code",
   "execution_count": null,
   "metadata": {
    "scrolled": true
   },
   "outputs": [],
   "source": [
    "df_KID11_ml['CPU_temperature(degC)'].plot()"
   ]
  },
  {
   "cell_type": "code",
   "execution_count": null,
   "metadata": {},
   "outputs": [],
   "source": [
    "df_KID1_ml['CPU_temperature(degC)'].plot()"
   ]
  },
  {
   "cell_type": "code",
   "execution_count": null,
   "metadata": {},
   "outputs": [],
   "source": [
    "df_KID11_ml['KID11_jobs'].plot()"
   ]
  },
  {
   "cell_type": "code",
   "execution_count": null,
   "metadata": {},
   "outputs": [],
   "source": [
    "df_KID11_ml.head()"
   ]
  },
  {
   "cell_type": "code",
   "execution_count": null,
   "metadata": {},
   "outputs": [],
   "source": [
    "corr_mat=df_KID11_ml.corr()\n",
    "sns.set()\n",
    "sns.heatmap(corr_mat,\n",
    "            vmin=-1.0,\n",
    "            vmax=1.0,\n",
    "            center=0,\n",
    "            annot=True, # True:格子の中に値を表示\n",
    "            fmt='.1f',\n",
    "            xticklabels=corr_mat.columns.values,\n",
    "            yticklabels=corr_mat.columns.values\n",
    "           )\n",
    "plt.show()"
   ]
  },
  {
   "cell_type": "markdown",
   "metadata": {},
   "source": [
    "# Regression using neural network"
   ]
  },
  {
   "cell_type": "code",
   "execution_count": 3,
   "metadata": {},
   "outputs": [
    {
     "name": "stderr",
     "output_type": "stream",
     "text": [
      "/home/nakajo/.pyenv/versions/anaconda3-5.2.0/lib/python3.6/site-packages/h5py/__init__.py:36: FutureWarning: Conversion of the second argument of issubdtype from `float` to `np.floating` is deprecated. In future, it will be treated as `np.float64 == np.dtype(float).type`.\n",
      "  from ._conv import register_converters as _register_converters\n",
      "/home/nakajo/.pyenv/versions/anaconda3-5.2.0/lib/python3.6/site-packages/sklearn/cross_validation.py:41: DeprecationWarning: This module was deprecated in version 0.18 in favor of the model_selection module into which all the refactored classes and functions are moved. Also note that the interface of the new CV iterators are different from that of this module. This module will be removed in 0.20.\n",
      "  \"This module will be removed in 0.20.\", DeprecationWarning)\n"
     ]
    }
   ],
   "source": [
    "import tensorflow as tf\n",
    "from sklearn import linear_model, preprocessing, cross_validation, svm\n",
    "from sklearn.svm import SVR"
   ]
  },
  {
   "cell_type": "code",
   "execution_count": 4,
   "metadata": {},
   "outputs": [],
   "source": [
    "def weight_variable(shape):\n",
    "    initial = tf.truncated_normal(shape,stddev=0.1)\n",
    "    return tf.Variable(initial)\n",
    "def bias_variable(shape):\n",
    "    initial = tf.constant(0.1,shape=shape)\n",
    "    return tf.Variable(initial)\n",
    "\n",
    "def MakeInputData(df_KID, KID_NAME):\n",
    "    input_current_state=df_KID[['CPU_utilization','FAN (%)', 'CPU_temperature(degC)', 'PS']].reset_index()\n",
    "    input_job=df_KID[KID_NAME+'_jobs'].reset_index()\n",
    "    Inp_np=np.empty((0, 5), float)\n",
    "    for i in range(len(df_KID)-1):\n",
    "        Inp_series=pd.concat([input_current_state.ix[i], input_job.ix[i+1]]).drop('Elapsed time (s)')\n",
    "        tmp_np=np.array(Inp_series)\n",
    "        Inp_np=np.append(Inp_np, [tmp_np], axis=0)\n",
    "    input_data_np=Inp_np\n",
    "    return input_data_np\n",
    "\n",
    "def MakeOutputData(df_KID, KID_NAME):\n",
    "    output_candidates=df_KID[['CPU_temperature(degC)', KID_NAME+'_serve_time']].reset_index()\n",
    "    Oup_np=np.empty((0,2), float)\n",
    "    oup_series=output_candidates.drop('Elapsed time (s)', axis=1)\n",
    "    tmp_np=np.array(oup_series)\n",
    "    Oup_np=np.append(Oup_np,tmp_np, axis=0)\n",
    "    output_data_np=Oup_np[1:] # skip the initital state \n",
    "    return output_data_np\n",
    "\n",
    "def DetermineNeuron(nInput, nOutput):\n",
    "    #非線形回帰モデル\n",
    "    # 30分類器 full=connection\n",
    "    global W_fc1, b_fc1, h_fc1, W_fc2, b_fc2, h_fc2, keep_prob, W_fc3, b_fc3, y\n",
    "    #第１層\n",
    "    W_fc1 = weight_variable([nInput,30])\n",
    "    b_fc1 = bias_variable([30])\n",
    "    h_fc1 = tf.nn.relu(tf.matmul(x,W_fc1) + b_fc1) #発火の定義，発火関数はrelu\n",
    "\n",
    "    #第２層\n",
    "    W_fc2 = weight_variable([30,10])\n",
    "    b_fc2 = bias_variable([10])\n",
    "    h_fc2 = tf.nn.relu(tf.matmul(h_fc1,W_fc2) + b_fc2)\n",
    "\n",
    "    keep_prob = tf.placeholder(tf.float32)  \n",
    "\n",
    "    #最終層（OutPut）\n",
    "    W_fc3 = weight_variable([10,nOutput])\n",
    "    b_fc3 = bias_variable([nOutput])\n",
    "    y = tf.nn.relu(tf.matmul(h_fc2,W_fc3) + b_fc3)\n",
    "\n",
    "def DefinePlaceHolder(nInput, nOutput):\n",
    "    global x, y_, w, b\n",
    "    x = tf.placeholder(tf.float32, shape=[None, nInput], name = \"input\")\n",
    "    #x = tf.placeholder(tf.float32, shape=[nInput], name = \"input\")\n",
    "    y_ = tf.placeholder(tf.float32, shape=[None, nOutput], name = \"output\") \n",
    "    #y_ = tf.placeholder(tf.float32, shape=[nOutput], name = \"output\") \n",
    "\n",
    "    w = tf.Variable(tf.zeros([nInput, nOutput]))  #weight\n",
    "    b = tf.Variable(tf.zeros([nOutput])) #bias\n",
    "    \n",
    "def InitiateModel():\n",
    "    global sess, cross_entropy, train_step\n",
    "    #y_ = training data , y = predection data \n",
    "    cross_entropy = tf.reduce_mean(tf.reduce_sum(tf.square(y - y_)))\n",
    "    #train_step = tf.train.GradientDescentOptimizer(0.01).minimize(cross_entropy)\n",
    "    train_step = tf.train.AdamOptimizer(1e-4).minimize(cross_entropy)\n",
    "    #sess = tf.InteractiveSession()\n",
    "    sess.run(tf.global_variables_initializer()) # Initialize variables\n",
    "      \n",
    "def Batch_NN_model(input_data_np, output_data_np, epoch):\n",
    "    global losses\n",
    "    batch_size = 8 # バッチサイズ  \n",
    "    num_data = 256\n",
    "    losses=[]\n",
    "    print(num_data)\n",
    "    for i in range(epoch):\n",
    "        for idx in range(0, num_data, batch_size):\n",
    "            Input_batch = input_data_np[idx:idx+batch_size]\n",
    "            Output_batch = output_data_np[idx:idx+batch_size]\n",
    "           # train_step.run(feed_dict={x:Input_batch, y_:Output_batch})\n",
    "            train_step.run(feed_dict={x:Input_batch, y_:Output_batch, keep_prob:1.0})\n",
    "        if i%200 == 0:\n",
    "          #  loss = sess.run(cross_entropy,feed_dict={x:Input, y_:Output})\n",
    "            loss = sess.run(cross_entropy,feed_dict={x:input_data_np, y_:output_data_np, keep_prob:1.0})\n",
    "            print(\"set %d\"%(i))\n",
    "            print(\"loss ={} \".format(loss))\n",
    "            losses.append(loss)\n",
    "    print('end')\n",
    "\n",
    "def ShowGraph(input_data_np, output_data_np, KID_NAME, epoch):\n",
    "    #予測値(y)の算出\n",
    "    plt.figure(figsize=(15,5))\n",
    "    plt.subplot(1, 2, 1)\n",
    "    NN_predict=sess.run(y, feed_dict={x:input_data_np, y_: output_data_np})\n",
    "    plt.plot(NN_predict[256:, 0], label=\"NN prediction\")\n",
    "    plt.plot(output_data_np[256:, 0], label=\"Measured data\")\n",
    "    plt.xlabel(\"Data point (time_scale)\")\n",
    "    plt.ylabel(\"Temperature (deg C)\")\n",
    "    plt.title(\"Model_for_\"+ KID_NAME)\n",
    "    plt.legend()\n",
    "    \n",
    "    plt.subplot(1, 2, 2)\n",
    "    Set=[]\n",
    "    for i in range(200, epoch, 200):\n",
    "        Set.append(i)\n",
    "    plt.plot(Set, losses[1:], linestyle=\"solid\", marker=\"o\", label=\"NN_predict\")\n",
    "    plt.xlabel(\"epoch\") \n",
    "    plt.ylabel(\"loss\")\n",
    "    plt.title('NN_learning_process')\n",
    "    plt.legend(loc =\"upper right\")\n",
    "    plt.show()\n",
    "    print(\"MSE:\", mean_squared_error(output_data_np, NN_predict))\n",
    "\n",
    "def Main(df_KID_ml, KID_NAME):\n",
    "    tf.reset_default_graph()\n",
    "    nInput=5\n",
    "    nOutput=2\n",
    "    epoch=10000\n",
    "    DefinePlaceHolder(nInput, nOutput)\n",
    "    DetermineNeuron(nInput, nOutput)\n",
    "    saver = tf.train.Saver()\n",
    "    with tf.Session() as sess:\n",
    "        InitiateModel()\n",
    "        input_data_np_KID=MakeInputData(df_KID_ml,KID_NAME)\n",
    "        output_data_np_KID=MakeOutputData(df_KID_ml, KID_NAME)\n",
    "        start=time.time()\n",
    "        Batch_NN_model(input_data_np_KID, output_data_np_KID, epoch)\n",
    "        process_time=time.time()-start\n",
    "        print(\"Prediction time:\", process_time)\n",
    "        print(\"W_fc1 : %s\" % W_fc1.eval())\n",
    "        print(\"W_fc2 : %s\" % W_fc2.eval())\n",
    "        save_path=saver.save(sess, './'+KID_NAME+'_NN_model.ckpt')\n",
    "        ShowGraph(input_data_np_KID, output_data_np_KID, KID_NAME, epoch)\n",
    "        print(\"Model saved in path: %s\" % os.getcwd()+save_path)"
   ]
  },
  {
   "cell_type": "markdown",
   "metadata": {},
   "source": [
    "# Training"
   ]
  },
  {
   "cell_type": "code",
   "execution_count": 5,
   "metadata": {},
   "outputs": [],
   "source": [
    "nInput=5\n",
    "nOutput=2\n",
    "epoch=10000\n",
    "DefinePlaceHolder(nInput, nOutput)\n",
    "DetermineNeuron(nInput, nOutput)\n",
    "saver = tf.train.Saver()"
   ]
  },
  {
   "cell_type": "code",
   "execution_count": 7,
   "metadata": {
    "scrolled": true
   },
   "outputs": [
    {
     "name": "stderr",
     "output_type": "stream",
     "text": [
      "/home/nakajo/.pyenv/versions/anaconda3-5.2.0/lib/python3.6/site-packages/ipykernel_launcher.py:13: DeprecationWarning: \n",
      ".ix is deprecated. Please use\n",
      ".loc for label based indexing or\n",
      ".iloc for positional indexing\n",
      "\n",
      "See the documentation here:\n",
      "http://pandas.pydata.org/pandas-docs/stable/indexing.html#ix-indexer-is-deprecated\n",
      "  del sys.path[0]\n"
     ]
    },
    {
     "name": "stdout",
     "output_type": "stream",
     "text": [
      "256\n",
      "set 0\n",
      "loss =1316005.75 \n",
      "set 200\n",
      "loss =712.3948974609375 \n",
      "set 400\n",
      "loss =318.55804443359375 \n",
      "set 600\n",
      "loss =303.9460144042969 \n",
      "set 800\n",
      "loss =292.9839782714844 \n",
      "set 1000\n",
      "loss =284.35491943359375 \n",
      "set 1200\n",
      "loss =277.1853942871094 \n",
      "set 1400\n",
      "loss =270.851318359375 \n",
      "set 1600\n",
      "loss =265.3846740722656 \n",
      "set 1800\n",
      "loss =260.64752197265625 \n",
      "set 2000\n",
      "loss =256.48406982421875 \n",
      "set 2200\n",
      "loss =252.92495727539062 \n",
      "set 2400\n",
      "loss =250.29869079589844 \n",
      "set 2600\n",
      "loss =248.1348114013672 \n",
      "set 2800\n",
      "loss =246.4656219482422 \n",
      "set 3000\n",
      "loss =245.1225128173828 \n",
      "set 3200\n",
      "loss =243.8899383544922 \n",
      "set 3400\n",
      "loss =242.9394073486328 \n",
      "set 3600\n",
      "loss =242.0309295654297 \n",
      "set 3800\n",
      "loss =241.0673065185547 \n",
      "set 4000\n",
      "loss =240.3112030029297 \n",
      "set 4200\n",
      "loss =239.81968688964844 \n",
      "set 4400\n",
      "loss =239.40533447265625 \n",
      "set 4600\n",
      "loss =239.11241149902344 \n",
      "set 4800\n",
      "loss =239.01170349121094 \n",
      "set 5000\n",
      "loss =239.17515563964844 \n",
      "set 5200\n",
      "loss =239.15499877929688 \n",
      "set 5400\n",
      "loss =238.9450225830078 \n",
      "set 5600\n",
      "loss =238.30979919433594 \n",
      "set 5800\n",
      "loss =238.24923706054688 \n",
      "set 6000\n",
      "loss =238.06954956054688 \n",
      "set 6200\n",
      "loss =238.0330352783203 \n",
      "set 6400\n",
      "loss =237.85301208496094 \n",
      "set 6600\n",
      "loss =237.61439514160156 \n",
      "set 6800\n",
      "loss =237.43641662597656 \n",
      "set 7000\n",
      "loss =237.26092529296875 \n",
      "set 7200\n",
      "loss =236.79898071289062 \n",
      "set 7400\n",
      "loss =236.75765991210938 \n",
      "set 7600\n",
      "loss =236.7304229736328 \n",
      "set 7800\n",
      "loss =236.46449279785156 \n",
      "set 8000\n",
      "loss =236.2719268798828 \n",
      "set 8200\n",
      "loss =236.0305633544922 \n",
      "set 8400\n",
      "loss =236.13597106933594 \n",
      "set 8600\n",
      "loss =236.0438232421875 \n",
      "set 8800\n",
      "loss =235.98110961914062 \n",
      "set 9000\n",
      "loss =236.00955200195312 \n",
      "set 9200\n",
      "loss =235.98968505859375 \n",
      "set 9400\n",
      "loss =236.1899871826172 \n",
      "set 9600\n",
      "loss =236.4263153076172 \n",
      "set 9800\n",
      "loss =236.61180114746094 \n",
      "end\n",
      "Prediction time: 131.42854189872742\n",
      "W_fc1 : [[-0.1416174  -0.22919528 -0.00231745  0.10919873  0.22612384  0.27844238\n",
      "  -0.05981099  0.02010549  0.10974675 -0.11551803 -0.0715517   0.08923135\n",
      "   0.02885079  0.15719329  0.03460993  0.04266046  0.43741965  0.04917249\n",
      "  -0.07450414  0.05785959  0.09582037  0.02976998 -0.03578206 -0.09238425\n",
      "  -0.2646311   0.13815993  0.07768421 -0.06873517  0.08294276 -0.05096664]\n",
      " [-0.04641066 -0.0267216   0.00230925  0.09119204  0.02733819  0.10211342\n",
      "  -0.13834308 -0.08589108 -0.05917539 -0.03983988 -0.06029251  0.02972408\n",
      "   0.02680218  0.18639892 -0.05358167  0.00869318  0.11571982  0.02555219\n",
      "   0.05058156  0.15660152 -0.05163844 -0.07897063  0.00623106  0.05844951\n",
      "  -0.30521154 -0.1797695   0.16553605 -0.11190057  0.03952019  0.15411808]\n",
      " [-0.06043131  0.0732106  -0.00593551  0.19755456  0.32200232  0.27116057\n",
      "   0.05786999 -0.09349712  0.03463997 -0.18792532 -0.0424768   0.29394925\n",
      "  -0.18685147  0.2892404  -0.18775518  0.401048    0.01961896  0.3862293\n",
      "  -0.1093528  -0.14935398  0.01932787  0.24682476  0.23820345 -0.03425488\n",
      "   0.13546059 -0.12777133  0.24642661 -0.04099777 -0.01912592  0.36102912]\n",
      " [ 0.12686889 -0.6187666   0.05226798  0.01492685  0.14901589 -0.02655649\n",
      "  -0.04084591  0.10004193 -0.07665301  0.05986162 -0.03951561 -0.10370081\n",
      "  -0.08133019  0.02385443 -0.04872238 -0.12100057  0.10220284  0.17795041\n",
      "   0.0011658   0.2852043  -0.02281529  0.13681509  0.02736589 -0.01361048\n",
      "   0.18286721  0.08794009  0.08537475 -0.01875833 -0.14504723  0.1976323 ]\n",
      " [-0.12636633 -0.04306818 -0.06074531  0.1301586   0.06152659 -0.01417621\n",
      "   0.01341549  0.07766341 -0.07026196 -0.0214285   0.0386406  -0.0817713\n",
      "  -0.00509374 -0.14837255  0.15720496 -0.03801514 -0.16521224  0.11019462\n",
      "  -0.04097451  0.24855152 -0.00306908  0.113171    0.09721252 -0.00281452\n",
      "  -0.05288643  0.00989826  0.17975664 -0.09157073 -0.00464244  0.2396231 ]]\n"
     ]
    },
    {
     "data": {
      "image/png": "[encoded data removed]",
      "text/plain": [
       "<Figure size 1080x360 with 2 Axes>"
      ]
     },
     "metadata": {},
     "output_type": "display_data"
    },
    {
     "name": "stdout",
     "output_type": "stream",
     "text": [
      "MSE: 0.2964405506069574\n",
      "Model saved in path: /home/nakajo/GT_Kids/Results/ML_data/data_5_ver1/ml_data./KID1_NN_model.ckpt\n"
     ]
    }
   ],
   "source": [
    "with tf.Session() as sess:\n",
    "    InitiateModel()\n",
    "    input_data_np_KID1=MakeInputData(df_KID1_ml,\"KID1\")\n",
    "    output_data_np_KID1=MakeOutputData(df_KID1_ml, \"KID1\")\n",
    "    start=time.time()\n",
    "    Batch_NN_model(input_data_np_KID1, output_data_np_KID1, epoch)\n",
    "    process_time=time.time()-start\n",
    "    print(\"Prediction time:\", process_time)\n",
    "    print(\"W_fc1 : %s\" % W_fc1.eval())\n",
    "    #print(\"W_fc2 : %s\" % W_fc2.eval())\n",
    "    save_path_local=saver.save(sess, './KID1_NN_model.ckpt')\n",
    "    #save_path_vali=saver.save(sess, '/home/nakajo/GT_Kids/Results/ML_data/vailidation_ver1/ml_data/KID1_NN_model/KID1_NN_model.ckpt')\n",
    "    ShowGraph(input_data_np_KID1, output_data_np_KID1, \"KID1\", epoch)\n",
    "    print(\"Model saved in path: %s\" % os.getcwd()+save_path_local)\n",
    "    #print(\"Model saved in path: %s\" % os.getcwd()+save_path_vali)"
   ]
  },
  {
   "cell_type": "code",
   "execution_count": null,
   "metadata": {},
   "outputs": [],
   "source": []
  },
  {
   "cell_type": "code",
   "execution_count": null,
   "metadata": {},
   "outputs": [],
   "source": [
    "tf.reset_default_graph()\n",
    "nInput=5\n",
    "nOutput=2\n",
    "epoch=10000\n",
    "DefinePlaceHolder(nInput, nOutput)\n",
    "DetermineNeuron(nInput, nOutput)\n",
    "saver = tf.train.Saver()"
   ]
  },
  {
   "cell_type": "code",
   "execution_count": null,
   "metadata": {},
   "outputs": [],
   "source": [
    "with tf.Session() as sess:\n",
    "    InitiateModel()\n",
    "    input_data_np_KID1=MakeInputData(df_KID3_ml,\"KID3\")\n",
    "    output_data_np_KID1=MakeOutputData(df_KID3_ml, \"KID3\")\n",
    "    start=time.time()\n",
    "    Batch_NN_model(input_data_np_KID1, output_data_np_KID1, epoch)\n",
    "    process_time=time.time()-start\n",
    "    print(\"Prediction time:\", process_time)\n",
    "    print(\"W_fc1 : %s\" % W_fc1.eval())\n",
    "    #print(\"W_fc2 : %s\" % W_fc2.eval())\n",
    "    save_path_local=saver.save(sess, './KID3_NN_model.ckpt')\n",
    "    #save_path_vali=saver.save(sess, '/home/nakajo/GT_Kids/Results/ML_data/vailidation_ver1/ml_data/KID3_NN_model/KID3_NN_model.ckpt')\n",
    "    ShowGraph(input_data_np_KID1, output_data_np_KID1, \"KID3\", epoch)\n",
    "    print(\"Model saved in path: %s\" % os.getcwd()+save_path_local)\n",
    "    #print(\"Model saved in path: %s\" % os.getcwd()+save_path_vali)"
   ]
  },
  {
   "cell_type": "code",
   "execution_count": null,
   "metadata": {},
   "outputs": [],
   "source": []
  },
  {
   "cell_type": "code",
   "execution_count": null,
   "metadata": {},
   "outputs": [],
   "source": [
    "tf.reset_default_graph()\n",
    "nInput=5\n",
    "nOutput=2\n",
    "epoch=10000\n",
    "DefinePlaceHolder(nInput, nOutput)\n",
    "DetermineNeuron(nInput, nOutput)\n",
    "saver = tf.train.Saver()"
   ]
  },
  {
   "cell_type": "code",
   "execution_count": null,
   "metadata": {
    "scrolled": true
   },
   "outputs": [],
   "source": [
    "with tf.Session() as sess:\n",
    "    InitiateModel()\n",
    "    input_data_np_KID1=MakeInputData(df_KID7_ml,\"KID7\")\n",
    "    output_data_np_KID1=MakeOutputData(df_KID7_ml, \"KID7\")\n",
    "    start=time.time()\n",
    "    Batch_NN_model(input_data_np_KID1, output_data_np_KID1, epoch)\n",
    "    process_time=time.time()-start\n",
    "    print(\"Prediction time:\", process_time)\n",
    "    print(\"W_fc1 : %s\" % W_fc1.eval())\n",
    "    #print(\"W_fc2 : %s\" % W_fc2.eval())\n",
    "    save_path_local=saver.save(sess, './KID7_NN_model.ckpt')\n",
    "    #save_path_vali=saver.save(sess, '/home/nakajo/GT_Kids/Results/ML_data/vailidation_ver1/ml_data/KID7_NN_model/KID7_NN_model.ckpt')\n",
    "    ShowGraph(input_data_np_KID1, output_data_np_KID1, \"KID7\", epoch)\n",
    "    print(\"Model saved in path: %s\" % os.getcwd()+save_path_local)\n",
    "    #print(\"Model saved in path: %s\" % os.getcwd()+save_path_vali)"
   ]
  },
  {
   "cell_type": "code",
   "execution_count": null,
   "metadata": {},
   "outputs": [],
   "source": []
  },
  {
   "cell_type": "code",
   "execution_count": null,
   "metadata": {},
   "outputs": [],
   "source": [
    "tf.reset_default_graph()\n",
    "nInput=5\n",
    "nOutput=2\n",
    "epoch=10000\n",
    "DefinePlaceHolder(nInput, nOutput)\n",
    "DetermineNeuron(nInput, nOutput)\n",
    "saver = tf.train.Saver()"
   ]
  },
  {
   "cell_type": "code",
   "execution_count": null,
   "metadata": {
    "scrolled": true
   },
   "outputs": [],
   "source": [
    "with tf.Session() as sess:\n",
    "    InitiateModel()\n",
    "    input_data_np_KID1=MakeInputData(df_KID9_ml,\"KID9\")\n",
    "    output_data_np_KID1=MakeOutputData(df_KID9_ml, \"KID9\")\n",
    "    start=time.time()\n",
    "    Batch_NN_model(input_data_np_KID1, output_data_np_KID1, epoch)\n",
    "    process_time=time.time()-start\n",
    "    print(\"Prediction time:\", process_time)\n",
    "    print(\"W_fc1 : %s\" % W_fc1.eval())\n",
    "    #print(\"W_fc2 : %s\" % W_fc2.eval())\n",
    "    save_path_local=saver.save(sess, './KID9_NN_model.ckpt')\n",
    "    #save_path_vali=saver.save(sess, '/home/nakajo/GT_Kids/Results/ML_data/vailidation_ver1/ml_data/KID9_NN_model/KID9_NN_model.ckpt')\n",
    "    ShowGraph(input_data_np_KID1, output_data_np_KID1, \"KID9\", epoch)\n",
    "    print(\"Model saved in path: %s\" % os.getcwd()+save_path_local)\n",
    "    #print(\"Model saved in path: %s\" % os.getcwd()+save_path_vali)"
   ]
  },
  {
   "cell_type": "code",
   "execution_count": null,
   "metadata": {},
   "outputs": [],
   "source": []
  },
  {
   "cell_type": "code",
   "execution_count": null,
   "metadata": {},
   "outputs": [],
   "source": [
    "tf.reset_default_graph()\n",
    "nInput=5\n",
    "nOutput=2\n",
    "epoch=10000\n",
    "DefinePlaceHolder(nInput, nOutput)\n",
    "DetermineNeuron(nInput, nOutput)\n",
    "saver = tf.train.Saver()"
   ]
  },
  {
   "cell_type": "code",
   "execution_count": null,
   "metadata": {
    "scrolled": true
   },
   "outputs": [],
   "source": [
    "with tf.Session() as sess:\n",
    "    InitiateModel()\n",
    "    input_data_np_KID1=MakeInputData(df_KID11_ml,\"KID11\")\n",
    "    output_data_np_KID1=MakeOutputData(df_KID11_ml, \"KID11\")\n",
    "    start=time.time()\n",
    "    Batch_NN_model(input_data_np_KID1, output_data_np_KID1, epoch)\n",
    "    process_time=time.time()-start\n",
    "    print(\"Prediction time:\", process_time)\n",
    "    print(\"W_fc1 : %s\" % W_fc1.eval())\n",
    "    #print(\"W_fc2 : %s\" % W_fc2.eval())\n",
    "    save_path_local=saver.save(sess, './KID11_NN_model.ckpt')\n",
    "    #save_path_vali=saver.save(sess, '/home/nakajo/GT_Kids/Results/ML_data/vailidation_ver1/ml_data/KID11_NN_model/KID11_NN_model.ckpt')\n",
    "    ShowGraph(input_data_np_KID1, output_data_np_KID1, \"KID11\", epoch)\n",
    "    print(\"Model saved in path: %s\" % os.getcwd()+save_path_local)\n",
    "    #print(\"Model saved in path: %s\" % os.getcwd()+save_path_vali)"
   ]
  },
  {
   "cell_type": "code",
   "execution_count": 13,
   "metadata": {
    "scrolled": true
   },
   "outputs": [
    {
     "data": {
      "text/plain": [
       "array([[ 0.2675    , 27.83      , 53.29861111,  9.23333333, 20.        ],\n",
       "       [ 0.68      , 27.83      , 53.80555556,  8.56666667, 15.        ],\n",
       "       [ 0.68      , 27.83      , 53.13888889,  6.6       , 25.        ],\n",
       "       ...,\n",
       "       [ 0.79      , 27.83      , 57.30208333,  6.00654762, 15.        ],\n",
       "       [ 0.79      , 27.83      , 57.4375    ,  7.24444444, 15.        ],\n",
       "       [ 0.775     , 27.83      , 57.72222222,  6.21666667, 10.        ]])"
      ]
     },
     "execution_count": 13,
     "metadata": {},
     "output_type": "execute_result"
    }
   ],
   "source": [
    "input_data_np_KID1"
   ]
  },
  {
   "cell_type": "code",
   "execution_count": 14,
   "metadata": {},
   "outputs": [
    {
     "data": {
      "text/html": [
       "<div>\n",
       "<style scoped>\n",
       "    .dataframe tbody tr th:only-of-type {\n",
       "        vertical-align: middle;\n",
       "    }\n",
       "\n",
       "    .dataframe tbody tr th {\n",
       "        vertical-align: top;\n",
       "    }\n",
       "\n",
       "    .dataframe thead th {\n",
       "        text-align: right;\n",
       "    }\n",
       "</style>\n",
       "<table border=\"1\" class=\"dataframe\">\n",
       "  <thead>\n",
       "    <tr style=\"text-align: right;\">\n",
       "      <th></th>\n",
       "      <th>CPU_temperature(degC)</th>\n",
       "      <th>CPU_utilization</th>\n",
       "      <th>FAN (%)</th>\n",
       "      <th>KID1_jobs</th>\n",
       "      <th>KID1_serve_time</th>\n",
       "      <th>PS</th>\n",
       "    </tr>\n",
       "    <tr>\n",
       "      <th>Elapsed time (s)</th>\n",
       "      <th></th>\n",
       "      <th></th>\n",
       "      <th></th>\n",
       "      <th></th>\n",
       "      <th></th>\n",
       "      <th></th>\n",
       "    </tr>\n",
       "  </thead>\n",
       "  <tbody>\n",
       "    <tr>\n",
       "      <th>21</th>\n",
       "      <td>53.298611</td>\n",
       "      <td>0.2675</td>\n",
       "      <td>27.83</td>\n",
       "      <td>20.0</td>\n",
       "      <td>0.195377</td>\n",
       "      <td>9.233333</td>\n",
       "    </tr>\n",
       "    <tr>\n",
       "      <th>23</th>\n",
       "      <td>53.805556</td>\n",
       "      <td>0.6800</td>\n",
       "      <td>27.83</td>\n",
       "      <td>20.0</td>\n",
       "      <td>0.211183</td>\n",
       "      <td>8.566667</td>\n",
       "    </tr>\n",
       "    <tr>\n",
       "      <th>25</th>\n",
       "      <td>53.138889</td>\n",
       "      <td>0.6800</td>\n",
       "      <td>27.83</td>\n",
       "      <td>15.0</td>\n",
       "      <td>0.153194</td>\n",
       "      <td>6.600000</td>\n",
       "    </tr>\n",
       "    <tr>\n",
       "      <th>28</th>\n",
       "      <td>53.895833</td>\n",
       "      <td>0.6200</td>\n",
       "      <td>27.83</td>\n",
       "      <td>25.0</td>\n",
       "      <td>0.265763</td>\n",
       "      <td>12.135714</td>\n",
       "    </tr>\n",
       "    <tr>\n",
       "      <th>29</th>\n",
       "      <td>54.000000</td>\n",
       "      <td>0.6200</td>\n",
       "      <td>27.83</td>\n",
       "      <td>20.0</td>\n",
       "      <td>0.213699</td>\n",
       "      <td>11.985714</td>\n",
       "    </tr>\n",
       "  </tbody>\n",
       "</table>\n",
       "</div>"
      ],
      "text/plain": [
       "                  CPU_temperature(degC)  CPU_utilization  FAN (%)  KID1_jobs  \\\n",
       "Elapsed time (s)                                                               \n",
       "21                            53.298611           0.2675    27.83       20.0   \n",
       "23                            53.805556           0.6800    27.83       20.0   \n",
       "25                            53.138889           0.6800    27.83       15.0   \n",
       "28                            53.895833           0.6200    27.83       25.0   \n",
       "29                            54.000000           0.6200    27.83       20.0   \n",
       "\n",
       "                  KID1_serve_time         PS  \n",
       "Elapsed time (s)                              \n",
       "21                       0.195377   9.233333  \n",
       "23                       0.211183   8.566667  \n",
       "25                       0.153194   6.600000  \n",
       "28                       0.265763  12.135714  \n",
       "29                       0.213699  11.985714  "
      ]
     },
     "execution_count": 14,
     "metadata": {},
     "output_type": "execute_result"
    }
   ],
   "source": [
    "df_KID1_ml.head()"
   ]
  },
  {
   "cell_type": "code",
   "execution_count": null,
   "metadata": {},
   "outputs": [],
   "source": []
  }
 ],
 "metadata": {
  "kernelspec": {
   "display_name": "Python 3",
   "language": "python",
   "name": "python3"
  },
  "language_info": {
   "codemirror_mode": {
    "name": "ipython",
    "version": 3
   },
   "file_extension": ".py",
   "mimetype": "text/x-python",
   "name": "python",
   "nbconvert_exporter": "python",
   "pygments_lexer": "ipython3",
   "version": "3.6.5"
  }
 },
 "nbformat": 4,
 "nbformat_minor": 2
}
