{
 "cells": [
  {
   "cell_type": "code",
   "execution_count": null,
   "metadata": {},
   "outputs": [],
   "source": [
    "import pandas as pd \n",
    "import numpy as np\n",
    "import os      \n",
    "import matplotlib.pyplot as plt\n",
    "import seaborn as sns\n",
    "from datetime import datetime\n",
    "path=\"/home/nakajo/GT_Kids/Results/\"\n",
    "Folder_name=\"/\"     # First of all, you need to select the folder name !!!!"
   ]
  },
  {
   "cell_type": "code",
   "execution_count": null,
   "metadata": {},
   "outputs": [],
   "source": [
    "def Get_Latency(df_algo_time):\n",
    "    print(df_algo_time.describe())\n",
    "    sns.set()\n",
    "    df_algo_time.hist()\n",
    "    plt.xlabel(\"Time(s)\")\n",
    "    plt.ylabel(\"Frequency\")\n",
    "    return df_algo_time.mean()\n",
    "    \n",
    "def Get_aggregation(KID1_table, KID3_table, KID7_table, KID9_table, KID11_table,):\n",
    "    aggre=pd.concat([KID1_table, KID3_table, KID7_table, KID9_table, KID11_table])\n",
    "    aggre=aggre.sort_index()\n",
    "    print(aggre.describe())\n",
    "    aggre.hist()\n",
    "    return aggre\n",
    "    \n",
    "def Get_DetailsOfKID(KID_table):\n",
    "    sns.set()\n",
    "    KID_table.plot()\n",
    "    KID_table.hist()\n",
    "    print(KID_table.describe())\n",
    "    \n",
    "def Get_Elapsed_time(KID_table):\n",
    "    elapsed_time=[]\n",
    "    for i in range(len(KID_table)):\n",
    "        time=KID_table.index[i]-KID_table.index[0]\n",
    "        elapsed_time.append(time)\n",
    "    return elapsed_time\n",
    "\n",
    "def __datetime(date_str):\n",
    "    return datetime.strptime(date_str, '%Y-%m-%d %H:%M:%S.%f')\n",
    "\n",
    "def EpTget(KID_table_datetime):\n",
    "    \n",
    "    ElapsedTime=[]\n",
    "    for i in range(len(KID_table_datetime.index)):\n",
    "        tmp=__datetime(KID_table_datetime.index[i]) - __datetime(KID_table_datetime.index[0])\n",
    "        ElapsedTime.append(tmp.total_seconds())\n",
    "    return ElapsedTime\n",
    "\n",
    "def Get_allKID(Ipt_Kid1, Ipt_Kid3, Ipt_Kid7, Ipt_Kid9, Ipt_Kid11, column_name):\n",
    "    a=Ipt_Kid1[column_name]\n",
    "    a.name=column_name+'_KID1'\n",
    "    b=Ipt_Kid3[column_name]\n",
    "    b.name=column_name+'_KID3'\n",
    "    c=Ipt_Kid7[column_name]\n",
    "    c.name=column_name+'_KID7'\n",
    "    d=Ipt_Kid9[column_name]\n",
    "    d.name=column_name+'_KID9'\n",
    "    e=Ipt_Kid11[column_name]\n",
    "    e.name=column_name+'_KID11'\n",
    "    imash=pd.concat([a,b,c,d,e], axis=1).sort_index()\n",
    "    imash_itp=imash.interpolate()\n",
    "    return imash_itp\n",
    "\n",
    "def MakeElapsedTable(Table):\n",
    "    ELT=pd.concat([Table.reset_index(), pd.DataFrame(EpTget(Table), columns=['Elapsed time (s)'])], axis=1)\n",
    "    ELT=ELT.set_index('Elapsed time (s)')\n",
    "    return ELT"
   ]
  },
  {
   "cell_type": "markdown",
   "metadata": {},
   "source": [
    "# Reading Data"
   ]
  },
  {
   "cell_type": "code",
   "execution_count": null,
   "metadata": {},
   "outputs": [],
   "source": [
    "KID1_table_RR=pd.read_pickle(path+Folder_name+\"KID1_RR.pkl\")\n",
    "KID3_table_RR=pd.read_pickle(path+Folder_name+\"KID3_RR.pkl\")\n",
    "KID7_table_RR=pd.read_pickle(path+Folder_name+\"KID7_RR.pkl\")\n",
    "KID9_table_RR=pd.read_pickle(path+Folder_name+\"KID9_RR.pkl\")\n",
    "KID11_table_RR=pd.read_pickle(path+Folder_name+\"KID11_RR.pkl\")\n",
    "df_algo_time_RR=pd.read_pickle(path+Folder_name+\"df_algo_time_RR.pkl\")\n",
    "KID1_serve_time_RR=pd.read_pickle(path+Folder_name+\"KID1_serve_time_RR.pkl\")\n",
    "KID3_serve_time_RR=pd.read_pickle(path+Folder_name+\"KID3_serve_time_RR.pkl\")\n",
    "KID7_serve_time_RR=pd.read_pickle(path+Folder_name+\"KID7_serve_time_RR.pkl\")\n",
    "KID9_serve_time_RR=pd.read_pickle(path+Folder_name+\"KID9_serve_time_RR.pkl\")\n",
    "KID11_serve_time_RR=pd.read_pickle(path+Folder_name+\"KID11_serve_time_RR.pkl\")\n",
    "df_jobs_RR=pd.read_pickle(path+Folder_name+\"df_jobs_RR.pkl\")\n",
    "\n",
    "KID1_table_CPUbased=pd.read_pickle(path+Folder_name+\"KID1_CPUbased.pkl\")\n",
    "KID3_table_CPUbased=pd.read_pickle(path+Folder_name+\"KID3_CPUbased.pkl\")\n",
    "KID7_table_CPUbased=pd.read_pickle(path+Folder_name+\"KID7_CPUbased.pkl\")\n",
    "KID9_table_CPUbased=pd.read_pickle(path+Folder_name+\"KID9_CPUbased.pkl\")\n",
    "KID11_table_CPUbased=pd.read_pickle(path+Folder_name+\"KID11_CPUbased.pkl\")\n",
    "df_algo_time_CPUbased=pd.read_pickle(path+Folder_name+\"df_algo_time_CPUbased.pkl\")\n",
    "KID1_serve_time_CPUbased=pd.read_pickle(path+Folder_name+\"KID1_serve_time_CPUbased.pkl\")\n",
    "KID3_serve_time_CPUbased=pd.read_pickle(path+Folder_name+\"KID3_serve_time_CPUbased.pkl\")\n",
    "KID7_serve_time_CPUbased=pd.read_pickle(path+Folder_name+\"KID7_serve_time_CPUbased.pkl\")\n",
    "KID9_serve_time_CPUbased=pd.read_pickle(path+Folder_name+\"KID9_serve_time_CPUbased.pkl\")\n",
    "KID11_serve_time_CPUbased=pd.read_pickle(path+Folder_name+\"KID11_serve_time_CPUbased.pkl\")\n",
    "df_jobs_CPUbased=pd.read_pickle(path+Folder_name+\"df_jobs_CPUbased.pkl\")\n",
    "\n",
    "KID1_table_Thermalbased=pd.read_pickle(path+Folder_name+\"KID1_Thermalbased.pkl\")\n",
    "KID3_table_Thermalbased=pd.read_pickle(path+Folder_name+\"KID3_Thermalbased.pkl\")\n",
    "KID7_table_Thermalbased=pd.read_pickle(path+Folder_name+\"KID7_Thermalbased.pkl\")\n",
    "KID9_table_Thermalbased=pd.read_pickle(path+Folder_name+\"KID9_Thermalbased.pkl\")\n",
    "KID11_table_Thermalbased=pd.read_pickle(path+Folder_name+\"KID11_Thermalbased.pkl\")\n",
    "df_algo_time_Thermalbased=pd.read_pickle(path+Folder_name+\"df_algo_time_Thermalbased.pkl\")\n",
    "KID1_serve_time_Thermalbased=pd.read_pickle(path+Folder_name+\"KID1_serve_time_Thermalbased.pkl\")\n",
    "KID3_serve_time_Thermalbased=pd.read_pickle(path+Folder_name+\"KID3_serve_time_Thermalbased.pkl\")\n",
    "KID7_serve_time_Thermalbased=pd.read_pickle(path+Folder_name+\"KID7_serve_time_Thermalbased.pkl\")\n",
    "KID9_serve_time_Thermalbased=pd.read_pickle(path+Folder_name+\"KID9_serve_time_Thermalbased.pkl\")\n",
    "KID11_serve_time_Thermalbased=pd.read_pickle(path+Folder_name+\"KID11_serve_time_Thermalbased.pkl\")\n",
    "df_jobs_Thermalbawsed=pd.read_pickle(path+Folder_name+\"df_jobs_Thermalbased.pkl\")"
   ]
  },
  {
   "cell_type": "markdown",
   "metadata": {},
   "source": [
    "# Each KID servers detail "
   ]
  },
  {
   "cell_type": "code",
   "execution_count": null,
   "metadata": {},
   "outputs": [],
   "source": [
    "Get_DetailsOfKID(KID1_table_CPUbased)"
   ]
  },
  {
   "cell_type": "markdown",
   "metadata": {},
   "source": [
    "# Resampling"
   ]
  },
  {
   "cell_type": "code",
   "execution_count": null,
   "metadata": {
    "scrolled": false
   },
   "outputs": [],
   "source": [
    "sns.set()\n",
    "RR=MakeElapsedTable(Get_allKID(KID1_table_RR, KID3_table_RR, KID7_table_RR, KID9_table_RR, KID11_table_RR, 'CPU_temperature(degC)'))\n",
    "plt.figure(figsize=(8.1, 5))\n",
    "RR.mean(axis=1).plot(label=\"Mean\")\n",
    "RR.max(axis=1).plot(label=\"Max\")\n",
    "plt.ylabel(\"CPU Temperature (degC)\")\n",
    "plt.xlim(50, 350)\n",
    "plt.legend()"
   ]
  },
  {
   "cell_type": "code",
   "execution_count": null,
   "metadata": {},
   "outputs": [],
   "source": [
    "CPU_based=MakeElapsedTable(Get_allKID(KID1_table_CPUbased, KID3_table_CPUbased, KID7_table_CPUbased, KID9_table_CPUbased, KID11_table_CPUbased, 'CPU_temperature(degC)'))\n",
    "plt.figure(figsize=(8.1, 5))\n",
    "CPU_based.mean(axis=1).plot(label=\"Mean\")\n",
    "CPU_based.max(axis=1).plot(label=\"Max\")\n",
    "plt.ylabel(\"CPU Temperature (degC)\")\n",
    "plt.legend()"
   ]
  },
  {
   "cell_type": "code",
   "execution_count": null,
   "metadata": {},
   "outputs": [],
   "source": [
    "Thermal_based=MakeElapsedTable(Get_allKID(KID1_table_Thermalbased, KID3_table_Thermalbased, KID7_table_Thermalbased, KID9_table_Thermalbased, KID11_table_Thermalbased, 'CPU_temperature(degC)'))\n",
    "plt.figure(figsize=(8.1, 5))\n",
    "Thermal_based.mean(axis=1).plot(label=\"Mean\")\n",
    "Thermal_based.max(axis=1).plot(label=\"Max\")\n",
    "plt.ylabel(\"CPU Temperature (degC)\")\n",
    "plt.legend()"
   ]
  },
  {
   "cell_type": "code",
   "execution_count": null,
   "metadata": {},
   "outputs": [],
   "source": [
    "plt.figure(figsize=(8.1, 5))\n",
    "RR.max(axis=1).plot(label=\"Round Robin\")\n",
    "CPU_based.max(axis=1).plot(label=\"CPU utilization based\")\n",
    "Thermal_based.max(axis=1).plot(label=\"CPU temperature based\")\n",
    "plt.ylabel(\"Max CPU Temperature (degC)\")\n",
    "plt.xlim(50, 350)\n",
    "plt.legend()"
   ]
  },
  {
   "cell_type": "code",
   "execution_count": null,
   "metadata": {},
   "outputs": [],
   "source": [
    "plt.figure(figsize=(8.1, 5))\n",
    "RR.mean(axis=1).plot(label=\"Round Robin\")\n",
    "CPU_based.mean(axis=1).plot(label=\"CPU utilization based\")\n",
    "Thermal_based.mean(axis=1).plot(label=\"CPU temperature based\")\n",
    "plt.ylabel(\"Mean CPU Temperature(degC)\")\n",
    "plt.legend()"
   ]
  },
  {
   "cell_type": "code",
   "execution_count": null,
   "metadata": {},
   "outputs": [],
   "source": [
    "RR_fan=MakeElapsedTable(Get_allKID(KID1_table_RR, KID3_table_RR, KID7_table_RR, KID9_table_RR, KID11_table_RR, 'FAN (%)'))\n",
    "CPU_based_fan=MakeElapsedTable(Get_allKID(KID1_table_CPUbased, KID3_table_CPUbased, KID7_table_CPUbased, KID9_table_CPUbased, KID11_table_CPUbased, 'FAN (%)'))\n",
    "Thermal_based_fan=MakeElapsedTable(Get_allKID(KID1_table_Thermalbased, KID3_table_Thermalbased, KID7_table_Thermalbased, KID9_table_Thermalbased, KID11_table_Thermalbased, 'FAN (%)'))\n",
    "\n",
    "plt.figure(figsize=(15, 5))\n",
    "plt.subplot(1, 2, 1)\n",
    "RR_fan.mean(axis=1).plot(label=\"Round Robin\")\n",
    "CPU_based_fan.mean(axis=1).plot(label=\"CPU utilization based\")\n",
    "Thermal_based_fan.mean(axis=1).plot(label=\"CPU temperature based\")\n",
    "plt.ylabel(\"Mean local fan rotation speed (%)\")\n",
    "plt.legend()\n",
    "\n",
    "plt.subplot(1, 2, 2)\n",
    "RR_fan.max(axis=1).plot(label=\"Round Robin\")\n",
    "CPU_based_fan.max(axis=1).plot(label=\"CPU utilization based\")\n",
    "Thermal_based_fan.max(axis=1).plot(label=\"CPU temperature based\")\n",
    "plt.ylabel(\"Max local fan rotation speed (%)\")\n",
    "plt.legend()"
   ]
  },
  {
   "cell_type": "code",
   "execution_count": null,
   "metadata": {},
   "outputs": [],
   "source": [
    "RR_ps=MakeElapsedTable(Get_allKID(KID1_table_RR, KID3_table_RR, KID7_table_RR, KID9_table_RR, KID11_table_RR, 'PS'))\n",
    "CPU_based_ps=MakeElapsedTable(Get_allKID(KID1_table_CPUbased, KID3_table_CPUbased, KID7_table_CPUbased, KID9_table_CPUbased, KID11_table_CPUbased, 'PS'))\n",
    "Thermal_based_ps=MakeElapsedTable(Get_allKID(KID1_table_Thermalbased, KID3_table_Thermalbased, KID7_table_Thermalbased, KID9_table_Thermalbased, KID11_table_Thermalbased, 'PS'))\n",
    "\n",
    "plt.figure(figsize=(8.1, 5))\n",
    "RR_ps.mean(axis=1).plot(label=\"Round Robin\")\n",
    "CPU_based_ps.mean(axis=1).plot(label=\"CPU utilization based\")\n",
    "Thermal_based_ps.mean(axis=1).plot(label=\"CPU temperature based\")\n",
    "plt.ylabel(\"Average CPU utilization (%)\")\n",
    "plt.legend()"
   ]
  },
  {
   "cell_type": "markdown",
   "metadata": {},
   "source": [
    "# Round Robin Histgram"
   ]
  },
  {
   "cell_type": "code",
   "execution_count": null,
   "metadata": {},
   "outputs": [],
   "source": [
    "Get_Latency(df_algo_time_RR)"
   ]
  },
  {
   "cell_type": "code",
   "execution_count": null,
   "metadata": {},
   "outputs": [],
   "source": [
    "RR_hist=Get_aggregation(KID1_table_RR, KID3_table_RR, KID7_table_RR, KID9_table_RR, KID11_table_RR)"
   ]
  },
  {
   "cell_type": "markdown",
   "metadata": {},
   "source": [
    "# CPU utilization based "
   ]
  },
  {
   "cell_type": "code",
   "execution_count": null,
   "metadata": {},
   "outputs": [],
   "source": [
    "Get_Latency(df_algo_time_CPUbased)"
   ]
  },
  {
   "cell_type": "code",
   "execution_count": null,
   "metadata": {},
   "outputs": [],
   "source": [
    "CPU_based_hist=Get_aggregation(KID1_table_CPUbased, KID3_table_CPUbased, KID7_table_CPUbased, KID9_table_CPUbased, KID11_table_CPUbased)"
   ]
  },
  {
   "cell_type": "markdown",
   "metadata": {},
   "source": [
    "# Thermal based "
   ]
  },
  {
   "cell_type": "code",
   "execution_count": null,
   "metadata": {},
   "outputs": [],
   "source": [
    "Get_Latency(df_algo_time_Thermalbased)"
   ]
  },
  {
   "cell_type": "code",
   "execution_count": null,
   "metadata": {},
   "outputs": [],
   "source": [
    "Thermal_based_hist=Get_aggregation(KID1_table_Thermalbased, KID3_table_Thermalbased, KID7_table_Thermalbased, KID9_table_Thermalbased, KID11_table_Thermalbased)"
   ]
  },
  {
   "cell_type": "code",
   "execution_count": null,
   "metadata": {},
   "outputs": [],
   "source": [
    "print(RR_hist.describe(), \"\\n\", CPU_based_hist.describe(),\"\\n\", Thermal_based_hist.describe())"
   ]
  },
  {
   "cell_type": "code",
   "execution_count": null,
   "metadata": {},
   "outputs": [],
   "source": [
    "table_mean=pd.DataFrame({'Round Robin':RR_hist.mean(), \n",
    "               'CPU utilization based':CPU_based_hist.mean(), \n",
    "              'CPU temperature based':Thermal_based_hist.mean()})\n",
    "table_mean.rename(index={'FAN (%)':'Average local fan rotation speed (%)', 'PS':'Average CPU utilization (%)', \n",
    "                         'CPU_utilization':'Average system load', 'CPU_temperature(degC)':'Average CPU temperature (degC)'})"
   ]
  },
  {
   "cell_type": "code",
   "execution_count": null,
   "metadata": {},
   "outputs": [],
   "source": [
    "table_std=pd.DataFrame({'Round Robin':RR_hist.std(), \n",
    "               'CPU utilization based':CPU_based_hist.std(), \n",
    "              'CPU temperature based':Thermal_based_hist.std()})\n",
    "table_std.rename(index={'FAN (%)':'Standard deviation of local fan rotation speed (%)', 'PS':'Standard deviation of average CPU utilization (%)', \n",
    "                         'CPU_utilization':'Standard deviation of average system load', 'CPU_temperature(degC)':'Standard deviation of average CPU temperature (degC)'})"
   ]
  },
  {
   "cell_type": "code",
   "execution_count": null,
   "metadata": {},
   "outputs": [],
   "source": [
    "table_max=pd.DataFrame({'Round Robin':RR_hist.max(), \n",
    "               'CPU utilization based':CPU_based_hist.max(), \n",
    "              'CPU temperature based':Thermal_based_hist.max()})\n",
    "table_max.rename(index={'FAN (%)':'Max local fan rotation speed (%)', 'PS':'Max CPU utilization (%)', \n",
    "                         'CPU_utilization':'Max system load', 'CPU_temperature(degC)':'Max CPU temperature (degC)'})"
   ]
  },
  {
   "cell_type": "markdown",
   "metadata": {},
   "source": [
    "# Histgram evaluation"
   ]
  },
  {
   "cell_type": "code",
   "execution_count": null,
   "metadata": {},
   "outputs": [],
   "source": [
    "# For mean\n",
    "hoge=pd.concat([RR.mean(axis=1), CPU_based.mean(axis=1), Thermal_based.mean(axis=1)], axis=1).sort_index().interpolate()\n",
    "hoge.columns=['RR', 'CPU_based', 'Thermal_based']\n",
    "# Golden ration 1:1.618\n",
    "plt.figure(figsize=(8.1, 5))\n",
    "hoge['RR'].hist(label=\"Round Robin\")\n",
    "hoge['CPU_based'].hist(label=\"CPU utilization based\")\n",
    "hoge['Thermal_based'].hist(label=\"CPU temperature based\")\n",
    "plt.title(\"Average CPU temperature histgram\")\n",
    "plt.xlabel(\"CPU temperature (degC)\")\n",
    "plt.ylabel(\"Frequency\")\n",
    "plt.legend()"
   ]
  },
  {
   "cell_type": "code",
   "execution_count": null,
   "metadata": {},
   "outputs": [],
   "source": [
    "# For max\n",
    "hoge=pd.concat([RR.max(axis=1), CPU_based.max(axis=1), Thermal_based.max(axis=1)], axis=1).sort_index().interpolate()\n",
    "hoge.columns=['RR', 'CPU_based', 'Thermal_based']\n",
    "plt.figure(figsize=(8.1, 5))\n",
    "hoge['RR'].hist(label=\"Round Robin\")\n",
    "hoge['CPU_based'].hist(label=\"CPU utilization based\")\n",
    "hoge['Thermal_based'].hist(label=\"CPU temperature based\")\n",
    "plt.title(\"Max CPU temperature histgram\")\n",
    "plt.xlabel(\"CPU temperature (degC)\")\n",
    "plt.ylabel(\"Frequency\")\n",
    "plt.legend()"
   ]
  },
  {
   "cell_type": "code",
   "execution_count": null,
   "metadata": {},
   "outputs": [],
   "source": [
    "print(len(RR_hist), len(CPU_based_hist), len(Thermal_based_hist))"
   ]
  },
  {
   "cell_type": "code",
   "execution_count": null,
   "metadata": {},
   "outputs": [],
   "source": [
    "# For all \n",
    "\"\"\" The problem is that each method has different frequency\"\"\"\n",
    "plt.figure(figsize=(8.1, 5))\n",
    "RR_hist['CPU_temperature(degC)'].hist(label=\"Round Robin\")\n",
    "CPU_based_hist['CPU_temperature(degC)'].hist(label=\"CPU utilization based\")\n",
    "Thermal_based_hist['CPU_temperature(degC)'].hist(label=\"CPU temperature based\")\n",
    "plt.title(\"Whole CPU temperature histgram\")\n",
    "plt.xlabel(\"CPU temperature (degC)\")\n",
    "plt.ylabel(\"Frequency\")\n",
    "plt.legend()"
   ]
  },
  {
   "cell_type": "code",
   "execution_count": null,
   "metadata": {},
   "outputs": [],
   "source": [
    "# For mean\n",
    "hoge=pd.concat([RR_fan.mean(axis=1), CPU_based_fan.mean(axis=1), Thermal_based_fan.mean(axis=1)], axis=1).sort_index().interpolate()\n",
    "hoge.columns=['RR', 'CPU_based', 'Thermal_based']\n",
    "plt.figure(figsize=(8.1, 5))\n",
    "hoge['RR'].hist(label=\"Round Robin\")\n",
    "hoge['CPU_based'].hist(label=\"CPU utilization based\")\n",
    "hoge['Thermal_based'].hist(label=\"CPU temperature based\")\n",
    "plt.title(\"Average FAN rotation speed histgram\")\n",
    "plt.xlabel(\"Fan rotation speed(%)\")\n",
    "plt.ylabel(\"Frequency\")\n",
    "plt.legend()"
   ]
  },
  {
   "cell_type": "code",
   "execution_count": null,
   "metadata": {},
   "outputs": [],
   "source": [
    "# For max\n",
    "hoge=pd.concat([RR_fan.max(axis=1), CPU_based_fan.max(axis=1), Thermal_based_fan.max(axis=1)], axis=1).sort_index().interpolate()\n",
    "hoge.columns=['RR', 'CPU_based', 'Thermal_based']\n",
    "plt.figure(figsize=(8.1, 5))\n",
    "hoge['RR'].hist(label=\"Round Robin\")\n",
    "hoge['CPU_based'].hist(label=\"CPU utilization based\")\n",
    "hoge['Thermal_based'].hist(label=\"CPU temperature based\")\n",
    "plt.title(\"Average FAN rotation speed histgram\")\n",
    "plt.xlabel(\"Fan rotation speed(%)\")\n",
    "plt.ylabel(\"Frequency\")\n",
    "plt.legend()"
   ]
  },
  {
   "cell_type": "code",
   "execution_count": null,
   "metadata": {},
   "outputs": [],
   "source": [
    "# For all \n",
    "\"\"\" The problem is that each method has different frequency\"\"\"\n",
    "plt.figure(figsize=(8.1, 5))\n",
    "RR_hist['FAN (%)'].hist(label=\"Round Robin\")\n",
    "CPU_based_hist['FAN (%)'].hist(label=\"CPU utilization based\")\n",
    "Thermal_based_hist['FAN (%)'].hist(label=\"CPU temperature based\")\n",
    "plt.title(\"Whole FAN rotation speed histgram\")\n",
    "plt.xlabel(\"Local fan rotation speed (%)\")\n",
    "plt.ylabel(\"Frequency\")\n",
    "plt.legend()"
   ]
  },
  {
   "cell_type": "markdown",
   "metadata": {},
   "source": [
    "# Server Process time evaluation"
   ]
  },
  {
   "cell_type": "code",
   "execution_count": null,
   "metadata": {},
   "outputs": [],
   "source": [
    "RR_servetime=Get_aggregation(KID1_serve_time_RR, KID3_serve_time_RR, KID7_serve_time_RR, KID9_serve_time_RR, KID11_serve_time_RR).mean()"
   ]
  },
  {
   "cell_type": "code",
   "execution_count": null,
   "metadata": {},
   "outputs": [],
   "source": [
    "CPUbaseds_servetime=Get_aggregation(KID1_serve_time_CPUbased, KID3_serve_time_CPUbased, KID7_serve_time_CPUbased, KID9_serve_time_CPUbased, KID11_serve_time_CPUbased).mean()"
   ]
  },
  {
   "cell_type": "code",
   "execution_count": null,
   "metadata": {},
   "outputs": [],
   "source": [
    "Thermalbased_servetime=Get_aggregation(KID1_serve_time_Thermalbased, KID3_serve_time_Thermalbased, KID7_serve_time_Thermalbased, KID9_serve_time_Thermalbased, KID11_serve_time_Thermalbased).mean()"
   ]
  },
  {
   "cell_type": "code",
   "execution_count": 1,
   "metadata": {},
   "outputs": [
    {
     "ename": "NameError",
     "evalue": "name 'RR_servetime' is not defined",
     "output_type": "error",
     "traceback": [
      "\u001b[1;31m---------------------------------------------------------------------------\u001b[0m",
      "\u001b[1;31mNameError\u001b[0m                                 Traceback (most recent call last)",
      "\u001b[1;32m<ipython-input-1-967c7ab0bbf6>\u001b[0m in \u001b[0;36m<module>\u001b[1;34m()\u001b[0m\n\u001b[1;32m----> 1\u001b[1;33m \u001b[1;33m(\u001b[0m\u001b[0mRR_servetime\u001b[0m\u001b[1;33m+\u001b[0m\u001b[0mCPUbaseds_servetime\u001b[0m\u001b[1;33m+\u001b[0m\u001b[0mThermalbased_servetime\u001b[0m\u001b[1;33m)\u001b[0m\u001b[1;33m/\u001b[0m\u001b[1;36m3\u001b[0m\u001b[1;33m\u001b[0m\u001b[0m\n\u001b[0m",
      "\u001b[1;31mNameError\u001b[0m: name 'RR_servetime' is not defined"
     ]
    }
   ],
   "source": [
    "(RR_servetime+CPUbaseds_servetime+Thermalbased_servetime)/3"
   ]
  },
  {
   "cell_type": "code",
   "execution_count": null,
   "metadata": {},
   "outputs": [],
   "source": [
    "df_servetime=pd.DataFrame({'Round Robin':\n",
    "                 pd.concat([KID1_serve_time_RR, KID3_serve_time_RR, KID7_serve_time_RR, KID9_serve_time_RR, KID11_serve_time_RR]).mean(),\n",
    "                 'CPU Utilization based':\n",
    "                 pd.concat([KID1_serve_time_CPUbased, KID3_serve_time_CPUbased, KID7_serve_time_CPUbased, KID9_serve_time_CPUbased, KID11_serve_time_CPUbased]).mean(),\n",
    "                 'CPU temperature based':\n",
    "                 pd.concat([KID1_serve_time_Thermalbased, KID3_serve_time_Thermalbased, KID7_serve_time_Thermalbased, KID9_serve_time_Thermalbased, KID11_serve_time_Thermalbased]).mean()\n",
    "                })\n",
    "\n",
    "df_algotime=pd.DataFrame({'Round Robin':\n",
    "                 df_algo_time_RR.mean()-1,\n",
    "                 'CPU Utilization based':\n",
    "                 df_algo_time_CPUbased.mean()-1,\n",
    "                 'CPU temperature based':\n",
    "                 df_algo_time_Thermalbased.mean()-1\n",
    "                })\n",
    "table_time=pd.concat([df_algotime, df_servetime])\n",
    "#table_time.index.names=['Average algorithm latency time (s)', 'Average server processing time (s)']\n",
    "table_time.rename(index={'Latency (s)':'Average queueing latency time (s)', 'Server Processing time (s)':'Average server processing time (s)'})"
   ]
  },
  {
   "cell_type": "markdown",
   "metadata": {},
   "source": [
    "# Toward learning process"
   ]
  },
  {
   "cell_type": "code",
   "execution_count": null,
   "metadata": {},
   "outputs": [],
   "source": [
    "RR_KID1_df=df_jobs_RR.loc[:,['KID1_timestamp', 'KID1_serve_time', 'KID1_jobs']]\n",
    "RR_KID1_df=RR_KID1_df.rename(columns={'KID1_timestamp': 'time (s)'})\n",
    "KID1_table_RR_rst=KID1_table_RR.reset_index()\n",
    "hoge=pd.concat([RR_KID1_df, KID1_table_RR_rst])\n",
    "hoge=hoge.sort_values(by=[\"time (s)\"], ascending=True)\n",
    "hoge=hoge.set_index(\"time (s)\")\n",
    "Elapsed_hoge=MakeElapsedTable(hoge)\n",
    "fuga=Elapsed_hoge.reset_index()\n",
    "fuga['Elapsed time (s)']=fuga['Elapsed time (s)'].astype(np.int64)\n",
    "fuga_grouped=fuga.groupby('Elapsed time (s)').agg(np.mean)"
   ]
  },
  {
   "cell_type": "code",
   "execution_count": null,
   "metadata": {},
   "outputs": [],
   "source": [
    "fuga_grouped"
   ]
  },
  {
   "cell_type": "code",
   "execution_count": null,
   "metadata": {},
   "outputs": [],
   "source": [
    "fuga_grouped.plot()"
   ]
  },
  {
   "cell_type": "code",
   "execution_count": null,
   "metadata": {},
   "outputs": [],
   "source": [
    "Elapsed_hoge.plot()"
   ]
  },
  {
   "cell_type": "code",
   "execution_count": null,
   "metadata": {},
   "outputs": [],
   "source": [
    "Elapsed_hoge.head()"
   ]
  },
  {
   "cell_type": "code",
   "execution_count": null,
   "metadata": {},
   "outputs": [],
   "source": [
    "df_jobs_RR.head()"
   ]
  },
  {
   "cell_type": "code",
   "execution_count": null,
   "metadata": {},
   "outputs": [],
   "source": [
    "corr_mat=hoge.fillna(0).corr()\n",
    "sns.set()\n",
    "sns.heatmap(corr_mat,\n",
    "            vmin=-1.0,\n",
    "            vmax=1.0,\n",
    "            center=0,\n",
    "            annot=True, # True:格子の中に値を表示\n",
    "            fmt='.1f',\n",
    "            xticklabels=corr_mat.columns.values,\n",
    "            yticklabels=corr_mat.columns.values\n",
    "           )\n",
    "plt.show()"
   ]
  }
 ],
 "metadata": {
  "kernelspec": {
   "display_name": "Python 3",
   "language": "python",
   "name": "python3"
  },
  "language_info": {
   "codemirror_mode": {
    "name": "ipython",
    "version": 3
   },
   "file_extension": ".py",
   "mimetype": "text/x-python",
   "name": "python",
   "nbconvert_exporter": "python",
   "pygments_lexer": "ipython3",
   "version": "3.6.5"
  }
 },
 "nbformat": 4,
 "nbformat_minor": 2
}
