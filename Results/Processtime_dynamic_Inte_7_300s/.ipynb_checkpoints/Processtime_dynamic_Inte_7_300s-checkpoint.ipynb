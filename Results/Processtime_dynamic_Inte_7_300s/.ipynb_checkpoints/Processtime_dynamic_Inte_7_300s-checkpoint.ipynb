{
 "cells": [
  {
   "cell_type": "code",
   "execution_count": 1,
   "metadata": {},
   "outputs": [],
   "source": [
    "import pandas as pd \n",
    "import numpy as np\n",
    "import os      \n",
    "import matplotlib.pyplot as plt\n",
    "import seaborn as sns\n",
    "from datetime import datetime\n",
    "path=\"C:/Users/Yusuke/Dropbox/Georgia_tech/GT_KIDS/Results/\"\n",
    "Folder_name=\"Processtime_dynamic_Inte_7_300s /\"     # First of all, you need to select the folder name !!!!"
   ]
  },
  {
   "cell_type": "code",
   "execution_count": 2,
   "metadata": {},
   "outputs": [],
   "source": [
    "def Get_Latency(df_algo_time):\n",
    "    print(df_algo_time.describe())\n",
    "    sns.set()\n",
    "    df_algo_time.hist()\n",
    "    plt.xlabel(\"Time(s)\")\n",
    "    plt.ylabel(\"Frequency\")\n",
    "    return df_algo_time.mean()\n",
    "    \n",
    "def Get_aggregation(KID1_table, KID3_table, KID7_table, KID9_table, KID11_table,):\n",
    "    aggre=pd.concat([KID1_table, KID3_table, KID7_table, KID9_table, KID11_table])\n",
    "    aggre=aggre.sort_index()\n",
    "    print(aggre.describe())\n",
    "    aggre.hist()\n",
    "    return aggre\n",
    "    \n",
    "def Get_DetailsOfKID(KID_table):\n",
    "    sns.set()\n",
    "    KID_table.plot()\n",
    "    KID_table.hist()\n",
    "    print(KID_table.describe())\n",
    "    \n",
    "def Get_Elapsed_time(KID_table):\n",
    "    elapsed_time=[]\n",
    "    for i in range(len(KID_table)):\n",
    "        time=KID_table.index[i]-KID_table.index[0]\n",
    "        elapsed_time.append(time)\n",
    "    return elapsed_time\n",
    "\n",
    "def __datetime(date_str):\n",
    "    return datetime.strptime(date_str, '%Y-%m-%d %H:%M:%S.%f')\n",
    "\n",
    "def EpTget(KID_table_datetime):\n",
    "    \n",
    "    ElapsedTime=[]\n",
    "    for i in range(len(KID_table_datetime.index)):\n",
    "        tmp=__datetime(KID_table_datetime.index[i]) - __datetime(KID_table_datetime.index[0])\n",
    "        ElapsedTime.append(tmp.total_seconds())\n",
    "    return ElapsedTime\n",
    "\n",
    "def Get_allKID(Ipt_Kid1, Ipt_Kid3, Ipt_Kid7, Ipt_Kid9, Ipt_Kid11, column_name):\n",
    "    a=Ipt_Kid1[column_name]\n",
    "    a.name=column_name+'_KID1'\n",
    "    b=Ipt_Kid3[column_name]\n",
    "    b.name=column_name+'_KID3'\n",
    "    c=Ipt_Kid7[column_name]\n",
    "    c.name=column_name+'_KID7'\n",
    "    d=Ipt_Kid9[column_name]\n",
    "    d.name=column_name+'_KID9'\n",
    "    e=Ipt_Kid11[column_name]\n",
    "    e.name=column_name+'_KID11'\n",
    "    imash=pd.concat([a,b,c,d,e], axis=1).sort_index()\n",
    "    imash_itp=imash.interpolate()\n",
    "    return imash_itp\n",
    "\n",
    "def MakeElapsedTable(Table):\n",
    "    ELT=pd.concat([Table.reset_index(), pd.DataFrame(EpTget(Table), columns=['Elapsed time (s)'])], axis=1)\n",
    "    ELT=ELT.set_index('Elapsed time (s)')\n",
    "    return ELT"
   ]
  },
  {
   "cell_type": "markdown",
   "metadata": {},
   "source": [
    "# Reading Data"
   ]
  },
  {
   "cell_type": "code",
   "execution_count": 3,
   "metadata": {},
   "outputs": [
    {
     "ename": "FileNotFoundError",
     "evalue": "[Errno 2] No such file or directory: 'C:/Users/Yusuke/Dropbox/Georgia_tech/GT_KIDS/Results/Processtime_dynamic_Inte_7_300s /KID1_RR.pkl'",
     "output_type": "error",
     "traceback": [
      "\u001b[1;31m---------------------------------------------------------------------------\u001b[0m",
      "\u001b[1;31mFileNotFoundError\u001b[0m                         Traceback (most recent call last)",
      "\u001b[1;32m~\\Anaconda3\\lib\\site-packages\\pandas\\io\\pickle.py\u001b[0m in \u001b[0;36mtry_read\u001b[1;34m(path, encoding)\u001b[0m\n\u001b[0;32m    165\u001b[0m                 \u001b[1;31m# We want to silencce any warnings about, e.g. moved modules.\u001b[0m\u001b[1;33m\u001b[0m\u001b[1;33m\u001b[0m\u001b[0m\n\u001b[1;32m--> 166\u001b[1;33m                 \u001b[1;32mreturn\u001b[0m \u001b[0mread_wrapper\u001b[0m\u001b[1;33m(\u001b[0m\u001b[1;32mlambda\u001b[0m \u001b[0mf\u001b[0m\u001b[1;33m:\u001b[0m \u001b[0mpkl\u001b[0m\u001b[1;33m.\u001b[0m\u001b[0mload\u001b[0m\u001b[1;33m(\u001b[0m\u001b[0mf\u001b[0m\u001b[1;33m)\u001b[0m\u001b[1;33m)\u001b[0m\u001b[1;33m\u001b[0m\u001b[0m\n\u001b[0m\u001b[0;32m    167\u001b[0m         \u001b[1;32mexcept\u001b[0m \u001b[0mException\u001b[0m\u001b[1;33m:\u001b[0m\u001b[1;33m\u001b[0m\u001b[0m\n",
      "\u001b[1;32m~\\Anaconda3\\lib\\site-packages\\pandas\\io\\pickle.py\u001b[0m in \u001b[0;36mread_wrapper\u001b[1;34m(func)\u001b[0m\n\u001b[0;32m    146\u001b[0m                             \u001b[0mcompression\u001b[0m\u001b[1;33m=\u001b[0m\u001b[0minferred_compression\u001b[0m\u001b[1;33m,\u001b[0m\u001b[1;33m\u001b[0m\u001b[0m\n\u001b[1;32m--> 147\u001b[1;33m                             is_text=False)\n\u001b[0m\u001b[0;32m    148\u001b[0m         \u001b[1;32mtry\u001b[0m\u001b[1;33m:\u001b[0m\u001b[1;33m\u001b[0m\u001b[0m\n",
      "\u001b[1;32m~\\Anaconda3\\lib\\site-packages\\pandas\\io\\common.py\u001b[0m in \u001b[0;36m_get_handle\u001b[1;34m(path_or_buf, mode, encoding, compression, memory_map, is_text)\u001b[0m\n\u001b[0;32m    405\u001b[0m             \u001b[1;31m# Python 3 and binary mode\u001b[0m\u001b[1;33m\u001b[0m\u001b[1;33m\u001b[0m\u001b[0m\n\u001b[1;32m--> 406\u001b[1;33m             \u001b[0mf\u001b[0m \u001b[1;33m=\u001b[0m \u001b[0mopen\u001b[0m\u001b[1;33m(\u001b[0m\u001b[0mpath_or_buf\u001b[0m\u001b[1;33m,\u001b[0m \u001b[0mmode\u001b[0m\u001b[1;33m)\u001b[0m\u001b[1;33m\u001b[0m\u001b[0m\n\u001b[0m\u001b[0;32m    407\u001b[0m         \u001b[0mhandles\u001b[0m\u001b[1;33m.\u001b[0m\u001b[0mappend\u001b[0m\u001b[1;33m(\u001b[0m\u001b[0mf\u001b[0m\u001b[1;33m)\u001b[0m\u001b[1;33m\u001b[0m\u001b[0m\n",
      "\u001b[1;31mFileNotFoundError\u001b[0m: [Errno 2] No such file or directory: 'C:/Users/Yusuke/Dropbox/Georgia_tech/GT_KIDS/Results/Processtime_dynamic_Inte_7_300s /KID1_RR.pkl'",
      "\nDuring handling of the above exception, another exception occurred:\n",
      "\u001b[1;31mFileNotFoundError\u001b[0m                         Traceback (most recent call last)",
      "\u001b[1;32m~\\Anaconda3\\lib\\site-packages\\pandas\\io\\pickle.py\u001b[0m in \u001b[0;36mtry_read\u001b[1;34m(path, encoding)\u001b[0m\n\u001b[0;32m    170\u001b[0m                 return read_wrapper(\n\u001b[1;32m--> 171\u001b[1;33m                     lambda f: pc.load(f, encoding=encoding, compat=False))\n\u001b[0m\u001b[0;32m    172\u001b[0m             \u001b[1;31m# compat pickle\u001b[0m\u001b[1;33m\u001b[0m\u001b[1;33m\u001b[0m\u001b[0m\n",
      "\u001b[1;32m~\\Anaconda3\\lib\\site-packages\\pandas\\io\\pickle.py\u001b[0m in \u001b[0;36mread_wrapper\u001b[1;34m(func)\u001b[0m\n\u001b[0;32m    146\u001b[0m                             \u001b[0mcompression\u001b[0m\u001b[1;33m=\u001b[0m\u001b[0minferred_compression\u001b[0m\u001b[1;33m,\u001b[0m\u001b[1;33m\u001b[0m\u001b[0m\n\u001b[1;32m--> 147\u001b[1;33m                             is_text=False)\n\u001b[0m\u001b[0;32m    148\u001b[0m         \u001b[1;32mtry\u001b[0m\u001b[1;33m:\u001b[0m\u001b[1;33m\u001b[0m\u001b[0m\n",
      "\u001b[1;32m~\\Anaconda3\\lib\\site-packages\\pandas\\io\\common.py\u001b[0m in \u001b[0;36m_get_handle\u001b[1;34m(path_or_buf, mode, encoding, compression, memory_map, is_text)\u001b[0m\n\u001b[0;32m    405\u001b[0m             \u001b[1;31m# Python 3 and binary mode\u001b[0m\u001b[1;33m\u001b[0m\u001b[1;33m\u001b[0m\u001b[0m\n\u001b[1;32m--> 406\u001b[1;33m             \u001b[0mf\u001b[0m \u001b[1;33m=\u001b[0m \u001b[0mopen\u001b[0m\u001b[1;33m(\u001b[0m\u001b[0mpath_or_buf\u001b[0m\u001b[1;33m,\u001b[0m \u001b[0mmode\u001b[0m\u001b[1;33m)\u001b[0m\u001b[1;33m\u001b[0m\u001b[0m\n\u001b[0m\u001b[0;32m    407\u001b[0m         \u001b[0mhandles\u001b[0m\u001b[1;33m.\u001b[0m\u001b[0mappend\u001b[0m\u001b[1;33m(\u001b[0m\u001b[0mf\u001b[0m\u001b[1;33m)\u001b[0m\u001b[1;33m\u001b[0m\u001b[0m\n",
      "\u001b[1;31mFileNotFoundError\u001b[0m: [Errno 2] No such file or directory: 'C:/Users/Yusuke/Dropbox/Georgia_tech/GT_KIDS/Results/Processtime_dynamic_Inte_7_300s /KID1_RR.pkl'",
      "\nDuring handling of the above exception, another exception occurred:\n",
      "\u001b[1;31mFileNotFoundError\u001b[0m                         Traceback (most recent call last)",
      "\u001b[1;32m~\\Anaconda3\\lib\\site-packages\\pandas\\io\\pickle.py\u001b[0m in \u001b[0;36mread_pickle\u001b[1;34m(path, compression)\u001b[0m\n\u001b[0;32m    176\u001b[0m     \u001b[1;32mtry\u001b[0m\u001b[1;33m:\u001b[0m\u001b[1;33m\u001b[0m\u001b[0m\n\u001b[1;32m--> 177\u001b[1;33m         \u001b[1;32mreturn\u001b[0m \u001b[0mtry_read\u001b[0m\u001b[1;33m(\u001b[0m\u001b[0mpath\u001b[0m\u001b[1;33m)\u001b[0m\u001b[1;33m\u001b[0m\u001b[0m\n\u001b[0m\u001b[0;32m    178\u001b[0m     \u001b[1;32mexcept\u001b[0m\u001b[1;33m:\u001b[0m\u001b[1;33m\u001b[0m\u001b[0m\n",
      "\u001b[1;32m~\\Anaconda3\\lib\\site-packages\\pandas\\io\\pickle.py\u001b[0m in \u001b[0;36mtry_read\u001b[1;34m(path, encoding)\u001b[0m\n\u001b[0;32m    174\u001b[0m                 return read_wrapper(\n\u001b[1;32m--> 175\u001b[1;33m                     lambda f: pc.load(f, encoding=encoding, compat=True))\n\u001b[0m\u001b[0;32m    176\u001b[0m     \u001b[1;32mtry\u001b[0m\u001b[1;33m:\u001b[0m\u001b[1;33m\u001b[0m\u001b[0m\n",
      "\u001b[1;32m~\\Anaconda3\\lib\\site-packages\\pandas\\io\\pickle.py\u001b[0m in \u001b[0;36mread_wrapper\u001b[1;34m(func)\u001b[0m\n\u001b[0;32m    146\u001b[0m                             \u001b[0mcompression\u001b[0m\u001b[1;33m=\u001b[0m\u001b[0minferred_compression\u001b[0m\u001b[1;33m,\u001b[0m\u001b[1;33m\u001b[0m\u001b[0m\n\u001b[1;32m--> 147\u001b[1;33m                             is_text=False)\n\u001b[0m\u001b[0;32m    148\u001b[0m         \u001b[1;32mtry\u001b[0m\u001b[1;33m:\u001b[0m\u001b[1;33m\u001b[0m\u001b[0m\n",
      "\u001b[1;32m~\\Anaconda3\\lib\\site-packages\\pandas\\io\\common.py\u001b[0m in \u001b[0;36m_get_handle\u001b[1;34m(path_or_buf, mode, encoding, compression, memory_map, is_text)\u001b[0m\n\u001b[0;32m    405\u001b[0m             \u001b[1;31m# Python 3 and binary mode\u001b[0m\u001b[1;33m\u001b[0m\u001b[1;33m\u001b[0m\u001b[0m\n\u001b[1;32m--> 406\u001b[1;33m             \u001b[0mf\u001b[0m \u001b[1;33m=\u001b[0m \u001b[0mopen\u001b[0m\u001b[1;33m(\u001b[0m\u001b[0mpath_or_buf\u001b[0m\u001b[1;33m,\u001b[0m \u001b[0mmode\u001b[0m\u001b[1;33m)\u001b[0m\u001b[1;33m\u001b[0m\u001b[0m\n\u001b[0m\u001b[0;32m    407\u001b[0m         \u001b[0mhandles\u001b[0m\u001b[1;33m.\u001b[0m\u001b[0mappend\u001b[0m\u001b[1;33m(\u001b[0m\u001b[0mf\u001b[0m\u001b[1;33m)\u001b[0m\u001b[1;33m\u001b[0m\u001b[0m\n",
      "\u001b[1;31mFileNotFoundError\u001b[0m: [Errno 2] No such file or directory: 'C:/Users/Yusuke/Dropbox/Georgia_tech/GT_KIDS/Results/Processtime_dynamic_Inte_7_300s /KID1_RR.pkl'",
      "\nDuring handling of the above exception, another exception occurred:\n",
      "\u001b[1;31mFileNotFoundError\u001b[0m                         Traceback (most recent call last)",
      "\u001b[1;32m~\\Anaconda3\\lib\\site-packages\\pandas\\io\\pickle.py\u001b[0m in \u001b[0;36mtry_read\u001b[1;34m(path, encoding)\u001b[0m\n\u001b[0;32m    165\u001b[0m                 \u001b[1;31m# We want to silencce any warnings about, e.g. moved modules.\u001b[0m\u001b[1;33m\u001b[0m\u001b[1;33m\u001b[0m\u001b[0m\n\u001b[1;32m--> 166\u001b[1;33m                 \u001b[1;32mreturn\u001b[0m \u001b[0mread_wrapper\u001b[0m\u001b[1;33m(\u001b[0m\u001b[1;32mlambda\u001b[0m \u001b[0mf\u001b[0m\u001b[1;33m:\u001b[0m \u001b[0mpkl\u001b[0m\u001b[1;33m.\u001b[0m\u001b[0mload\u001b[0m\u001b[1;33m(\u001b[0m\u001b[0mf\u001b[0m\u001b[1;33m)\u001b[0m\u001b[1;33m)\u001b[0m\u001b[1;33m\u001b[0m\u001b[0m\n\u001b[0m\u001b[0;32m    167\u001b[0m         \u001b[1;32mexcept\u001b[0m \u001b[0mException\u001b[0m\u001b[1;33m:\u001b[0m\u001b[1;33m\u001b[0m\u001b[0m\n",
      "\u001b[1;32m~\\Anaconda3\\lib\\site-packages\\pandas\\io\\pickle.py\u001b[0m in \u001b[0;36mread_wrapper\u001b[1;34m(func)\u001b[0m\n\u001b[0;32m    146\u001b[0m                             \u001b[0mcompression\u001b[0m\u001b[1;33m=\u001b[0m\u001b[0minferred_compression\u001b[0m\u001b[1;33m,\u001b[0m\u001b[1;33m\u001b[0m\u001b[0m\n\u001b[1;32m--> 147\u001b[1;33m                             is_text=False)\n\u001b[0m\u001b[0;32m    148\u001b[0m         \u001b[1;32mtry\u001b[0m\u001b[1;33m:\u001b[0m\u001b[1;33m\u001b[0m\u001b[0m\n",
      "\u001b[1;32m~\\Anaconda3\\lib\\site-packages\\pandas\\io\\common.py\u001b[0m in \u001b[0;36m_get_handle\u001b[1;34m(path_or_buf, mode, encoding, compression, memory_map, is_text)\u001b[0m\n\u001b[0;32m    405\u001b[0m             \u001b[1;31m# Python 3 and binary mode\u001b[0m\u001b[1;33m\u001b[0m\u001b[1;33m\u001b[0m\u001b[0m\n\u001b[1;32m--> 406\u001b[1;33m             \u001b[0mf\u001b[0m \u001b[1;33m=\u001b[0m \u001b[0mopen\u001b[0m\u001b[1;33m(\u001b[0m\u001b[0mpath_or_buf\u001b[0m\u001b[1;33m,\u001b[0m \u001b[0mmode\u001b[0m\u001b[1;33m)\u001b[0m\u001b[1;33m\u001b[0m\u001b[0m\n\u001b[0m\u001b[0;32m    407\u001b[0m         \u001b[0mhandles\u001b[0m\u001b[1;33m.\u001b[0m\u001b[0mappend\u001b[0m\u001b[1;33m(\u001b[0m\u001b[0mf\u001b[0m\u001b[1;33m)\u001b[0m\u001b[1;33m\u001b[0m\u001b[0m\n",
      "\u001b[1;31mFileNotFoundError\u001b[0m: [Errno 2] No such file or directory: 'C:/Users/Yusuke/Dropbox/Georgia_tech/GT_KIDS/Results/Processtime_dynamic_Inte_7_300s /KID1_RR.pkl'",
      "\nDuring handling of the above exception, another exception occurred:\n",
      "\u001b[1;31mFileNotFoundError\u001b[0m                         Traceback (most recent call last)",
      "\u001b[1;32m~\\Anaconda3\\lib\\site-packages\\pandas\\io\\pickle.py\u001b[0m in \u001b[0;36mtry_read\u001b[1;34m(path, encoding)\u001b[0m\n\u001b[0;32m    170\u001b[0m                 return read_wrapper(\n\u001b[1;32m--> 171\u001b[1;33m                     lambda f: pc.load(f, encoding=encoding, compat=False))\n\u001b[0m\u001b[0;32m    172\u001b[0m             \u001b[1;31m# compat pickle\u001b[0m\u001b[1;33m\u001b[0m\u001b[1;33m\u001b[0m\u001b[0m\n",
      "\u001b[1;32m~\\Anaconda3\\lib\\site-packages\\pandas\\io\\pickle.py\u001b[0m in \u001b[0;36mread_wrapper\u001b[1;34m(func)\u001b[0m\n\u001b[0;32m    146\u001b[0m                             \u001b[0mcompression\u001b[0m\u001b[1;33m=\u001b[0m\u001b[0minferred_compression\u001b[0m\u001b[1;33m,\u001b[0m\u001b[1;33m\u001b[0m\u001b[0m\n\u001b[1;32m--> 147\u001b[1;33m                             is_text=False)\n\u001b[0m\u001b[0;32m    148\u001b[0m         \u001b[1;32mtry\u001b[0m\u001b[1;33m:\u001b[0m\u001b[1;33m\u001b[0m\u001b[0m\n",
      "\u001b[1;32m~\\Anaconda3\\lib\\site-packages\\pandas\\io\\common.py\u001b[0m in \u001b[0;36m_get_handle\u001b[1;34m(path_or_buf, mode, encoding, compression, memory_map, is_text)\u001b[0m\n\u001b[0;32m    405\u001b[0m             \u001b[1;31m# Python 3 and binary mode\u001b[0m\u001b[1;33m\u001b[0m\u001b[1;33m\u001b[0m\u001b[0m\n\u001b[1;32m--> 406\u001b[1;33m             \u001b[0mf\u001b[0m \u001b[1;33m=\u001b[0m \u001b[0mopen\u001b[0m\u001b[1;33m(\u001b[0m\u001b[0mpath_or_buf\u001b[0m\u001b[1;33m,\u001b[0m \u001b[0mmode\u001b[0m\u001b[1;33m)\u001b[0m\u001b[1;33m\u001b[0m\u001b[0m\n\u001b[0m\u001b[0;32m    407\u001b[0m         \u001b[0mhandles\u001b[0m\u001b[1;33m.\u001b[0m\u001b[0mappend\u001b[0m\u001b[1;33m(\u001b[0m\u001b[0mf\u001b[0m\u001b[1;33m)\u001b[0m\u001b[1;33m\u001b[0m\u001b[0m\n",
      "\u001b[1;31mFileNotFoundError\u001b[0m: [Errno 2] No such file or directory: 'C:/Users/Yusuke/Dropbox/Georgia_tech/GT_KIDS/Results/Processtime_dynamic_Inte_7_300s /KID1_RR.pkl'",
      "\nDuring handling of the above exception, another exception occurred:\n",
      "\u001b[1;31mFileNotFoundError\u001b[0m                         Traceback (most recent call last)",
      "\u001b[1;32m<ipython-input-3-0235488dcc65>\u001b[0m in \u001b[0;36m<module>\u001b[1;34m()\u001b[0m\n\u001b[1;32m----> 1\u001b[1;33m \u001b[0mKID1_table_RR\u001b[0m\u001b[1;33m=\u001b[0m\u001b[0mpd\u001b[0m\u001b[1;33m.\u001b[0m\u001b[0mread_pickle\u001b[0m\u001b[1;33m(\u001b[0m\u001b[0mpath\u001b[0m\u001b[1;33m+\u001b[0m\u001b[0mFolder_name\u001b[0m\u001b[1;33m+\u001b[0m\u001b[1;34m\"KID1_RR.pkl\"\u001b[0m\u001b[1;33m)\u001b[0m\u001b[1;33m\u001b[0m\u001b[0m\n\u001b[0m\u001b[0;32m      2\u001b[0m \u001b[0mKID3_table_RR\u001b[0m\u001b[1;33m=\u001b[0m\u001b[0mpd\u001b[0m\u001b[1;33m.\u001b[0m\u001b[0mread_pickle\u001b[0m\u001b[1;33m(\u001b[0m\u001b[0mpath\u001b[0m\u001b[1;33m+\u001b[0m\u001b[0mFolder_name\u001b[0m\u001b[1;33m+\u001b[0m\u001b[1;34m\"KID3_RR.pkl\"\u001b[0m\u001b[1;33m)\u001b[0m\u001b[1;33m\u001b[0m\u001b[0m\n\u001b[0;32m      3\u001b[0m \u001b[0mKID7_table_RR\u001b[0m\u001b[1;33m=\u001b[0m\u001b[0mpd\u001b[0m\u001b[1;33m.\u001b[0m\u001b[0mread_pickle\u001b[0m\u001b[1;33m(\u001b[0m\u001b[0mpath\u001b[0m\u001b[1;33m+\u001b[0m\u001b[0mFolder_name\u001b[0m\u001b[1;33m+\u001b[0m\u001b[1;34m\"KID7_RR.pkl\"\u001b[0m\u001b[1;33m)\u001b[0m\u001b[1;33m\u001b[0m\u001b[0m\n\u001b[0;32m      4\u001b[0m \u001b[0mKID9_table_RR\u001b[0m\u001b[1;33m=\u001b[0m\u001b[0mpd\u001b[0m\u001b[1;33m.\u001b[0m\u001b[0mread_pickle\u001b[0m\u001b[1;33m(\u001b[0m\u001b[0mpath\u001b[0m\u001b[1;33m+\u001b[0m\u001b[0mFolder_name\u001b[0m\u001b[1;33m+\u001b[0m\u001b[1;34m\"KID9_RR.pkl\"\u001b[0m\u001b[1;33m)\u001b[0m\u001b[1;33m\u001b[0m\u001b[0m\n\u001b[0;32m      5\u001b[0m \u001b[0mKID11_table_RR\u001b[0m\u001b[1;33m=\u001b[0m\u001b[0mpd\u001b[0m\u001b[1;33m.\u001b[0m\u001b[0mread_pickle\u001b[0m\u001b[1;33m(\u001b[0m\u001b[0mpath\u001b[0m\u001b[1;33m+\u001b[0m\u001b[0mFolder_name\u001b[0m\u001b[1;33m+\u001b[0m\u001b[1;34m\"KID11_RR.pkl\"\u001b[0m\u001b[1;33m)\u001b[0m\u001b[1;33m\u001b[0m\u001b[0m\n",
      "\u001b[1;32m~\\Anaconda3\\lib\\site-packages\\pandas\\io\\pickle.py\u001b[0m in \u001b[0;36mread_pickle\u001b[1;34m(path, compression)\u001b[0m\n\u001b[0;32m    178\u001b[0m     \u001b[1;32mexcept\u001b[0m\u001b[1;33m:\u001b[0m\u001b[1;33m\u001b[0m\u001b[0m\n\u001b[0;32m    179\u001b[0m         \u001b[1;32mif\u001b[0m \u001b[0mPY3\u001b[0m\u001b[1;33m:\u001b[0m\u001b[1;33m\u001b[0m\u001b[0m\n\u001b[1;32m--> 180\u001b[1;33m             \u001b[1;32mreturn\u001b[0m \u001b[0mtry_read\u001b[0m\u001b[1;33m(\u001b[0m\u001b[0mpath\u001b[0m\u001b[1;33m,\u001b[0m \u001b[0mencoding\u001b[0m\u001b[1;33m=\u001b[0m\u001b[1;34m'latin1'\u001b[0m\u001b[1;33m)\u001b[0m\u001b[1;33m\u001b[0m\u001b[0m\n\u001b[0m\u001b[0;32m    181\u001b[0m         \u001b[1;32mraise\u001b[0m\u001b[1;33m\u001b[0m\u001b[0m\n\u001b[0;32m    182\u001b[0m \u001b[1;33m\u001b[0m\u001b[0m\n",
      "\u001b[1;32m~\\Anaconda3\\lib\\site-packages\\pandas\\io\\pickle.py\u001b[0m in \u001b[0;36mtry_read\u001b[1;34m(path, encoding)\u001b[0m\n\u001b[0;32m    173\u001b[0m             \u001b[1;32mexcept\u001b[0m\u001b[1;33m:\u001b[0m\u001b[1;33m\u001b[0m\u001b[0m\n\u001b[0;32m    174\u001b[0m                 return read_wrapper(\n\u001b[1;32m--> 175\u001b[1;33m                     lambda f: pc.load(f, encoding=encoding, compat=True))\n\u001b[0m\u001b[0;32m    176\u001b[0m     \u001b[1;32mtry\u001b[0m\u001b[1;33m:\u001b[0m\u001b[1;33m\u001b[0m\u001b[0m\n\u001b[0;32m    177\u001b[0m         \u001b[1;32mreturn\u001b[0m \u001b[0mtry_read\u001b[0m\u001b[1;33m(\u001b[0m\u001b[0mpath\u001b[0m\u001b[1;33m)\u001b[0m\u001b[1;33m\u001b[0m\u001b[0m\n",
      "\u001b[1;32m~\\Anaconda3\\lib\\site-packages\\pandas\\io\\pickle.py\u001b[0m in \u001b[0;36mread_wrapper\u001b[1;34m(func)\u001b[0m\n\u001b[0;32m    145\u001b[0m         f, fh = _get_handle(path, 'rb',\n\u001b[0;32m    146\u001b[0m                             \u001b[0mcompression\u001b[0m\u001b[1;33m=\u001b[0m\u001b[0minferred_compression\u001b[0m\u001b[1;33m,\u001b[0m\u001b[1;33m\u001b[0m\u001b[0m\n\u001b[1;32m--> 147\u001b[1;33m                             is_text=False)\n\u001b[0m\u001b[0;32m    148\u001b[0m         \u001b[1;32mtry\u001b[0m\u001b[1;33m:\u001b[0m\u001b[1;33m\u001b[0m\u001b[0m\n\u001b[0;32m    149\u001b[0m             \u001b[1;32mreturn\u001b[0m \u001b[0mfunc\u001b[0m\u001b[1;33m(\u001b[0m\u001b[0mf\u001b[0m\u001b[1;33m)\u001b[0m\u001b[1;33m\u001b[0m\u001b[0m\n",
      "\u001b[1;32m~\\Anaconda3\\lib\\site-packages\\pandas\\io\\common.py\u001b[0m in \u001b[0;36m_get_handle\u001b[1;34m(path_or_buf, mode, encoding, compression, memory_map, is_text)\u001b[0m\n\u001b[0;32m    404\u001b[0m         \u001b[1;32melse\u001b[0m\u001b[1;33m:\u001b[0m\u001b[1;33m\u001b[0m\u001b[0m\n\u001b[0;32m    405\u001b[0m             \u001b[1;31m# Python 3 and binary mode\u001b[0m\u001b[1;33m\u001b[0m\u001b[1;33m\u001b[0m\u001b[0m\n\u001b[1;32m--> 406\u001b[1;33m             \u001b[0mf\u001b[0m \u001b[1;33m=\u001b[0m \u001b[0mopen\u001b[0m\u001b[1;33m(\u001b[0m\u001b[0mpath_or_buf\u001b[0m\u001b[1;33m,\u001b[0m \u001b[0mmode\u001b[0m\u001b[1;33m)\u001b[0m\u001b[1;33m\u001b[0m\u001b[0m\n\u001b[0m\u001b[0;32m    407\u001b[0m         \u001b[0mhandles\u001b[0m\u001b[1;33m.\u001b[0m\u001b[0mappend\u001b[0m\u001b[1;33m(\u001b[0m\u001b[0mf\u001b[0m\u001b[1;33m)\u001b[0m\u001b[1;33m\u001b[0m\u001b[0m\n\u001b[0;32m    408\u001b[0m \u001b[1;33m\u001b[0m\u001b[0m\n",
      "\u001b[1;31mFileNotFoundError\u001b[0m: [Errno 2] No such file or directory: 'C:/Users/Yusuke/Dropbox/Georgia_tech/GT_KIDS/Results/Processtime_dynamic_Inte_7_300s /KID1_RR.pkl'"
     ]
    }
   ],
   "source": [
    "KID1_table_RR=pd.read_pickle(path+Folder_name+\"KID1_RR.pkl\")\n",
    "KID3_table_RR=pd.read_pickle(path+Folder_name+\"KID3_RR.pkl\")\n",
    "KID7_table_RR=pd.read_pickle(path+Folder_name+\"KID7_RR.pkl\")\n",
    "KID9_table_RR=pd.read_pickle(path+Folder_name+\"KID9_RR.pkl\")\n",
    "KID11_table_RR=pd.read_pickle(path+Folder_name+\"KID11_RR.pkl\")\n",
    "df_algo_time_RR=pd.read_pickle(path+Folder_name+\"df_algo_time_RR.pkl\")\n",
    "KID1_serve_time_RR=pd.read_pickle(path+Folder_name+\"KID1_serve_time_RR.pkl\")\n",
    "KID3_serve_time_RR=pd.read_pickle(path+Folder_name+\"KID3_serve_time_RR.pkl\")\n",
    "KID7_serve_time_RR=pd.read_pickle(path+Folder_name+\"KID7_serve_time_RR.pkl\")\n",
    "KID9_serve_time_RR=pd.read_pickle(path+Folder_name+\"KID9_serve_time_RR.pkl\")\n",
    "KID11_serve_time_RR=pd.read_pickle(path+Folder_name+\"KID11_serve_time_RR.pkl\")\n",
    "\n",
    "KID1_table_CPUbased=pd.read_pickle(path+Folder_name+\"KID1_CPUbased.pkl\")\n",
    "KID3_table_CPUbased=pd.read_pickle(path+Folder_name+\"KID3_CPUbased.pkl\")\n",
    "KID7_table_CPUbased=pd.read_pickle(path+Folder_name+\"KID7_CPUbased.pkl\")\n",
    "KID9_table_CPUbased=pd.read_pickle(path+Folder_name+\"KID9_CPUbased.pkl\")\n",
    "KID11_table_CPUbased=pd.read_pickle(path+Folder_name+\"KID11_CPUbased.pkl\")\n",
    "df_algo_time_CPUbased=pd.read_pickle(path+Folder_name+\"df_algo_time_CPUbased.pkl\")\n",
    "KID1_serve_time_CPUbased=pd.read_pickle(path+Folder_name+\"KID1_serve_time_CPUbased.pkl\")\n",
    "KID3_serve_time_CPUbased=pd.read_pickle(path+Folder_name+\"KID3_serve_time_CPUbased.pkl\")\n",
    "KID7_serve_time_CPUbased=pd.read_pickle(path+Folder_name+\"KID7_serve_time_CPUbased.pkl\")\n",
    "KID9_serve_time_CPUbased=pd.read_pickle(path+Folder_name+\"KID9_serve_time_CPUbased.pkl\")\n",
    "KID11_serve_time_CPUbased=pd.read_pickle(path+Folder_name+\"KID11_serve_time_CPUbased.pkl\")\n",
    "\n",
    "KID1_table_Thermalbased=pd.read_pickle(path+Folder_name+\"KID1_Thermalbased.pkl\")\n",
    "KID3_table_Thermalbased=pd.read_pickle(path+Folder_name+\"KID3_Thermalbased.pkl\")\n",
    "KID7_table_Thermalbased=pd.read_pickle(path+Folder_name+\"KID7_Thermalbased.pkl\")\n",
    "KID9_table_Thermalbased=pd.read_pickle(path+Folder_name+\"KID9_Thermalbased.pkl\")\n",
    "KID11_table_Thermalbased=pd.read_pickle(path+Folder_name+\"KID11_Thermalbased.pkl\")\n",
    "df_algo_time_Thermalbased=pd.read_pickle(path+Folder_name+\"df_algo_time_Thermalbased.pkl\")\n",
    "KID1_serve_time_Thermalbased=pd.read_pickle(path+Folder_name+\"KID1_serve_time_Thermalbased.pkl\")\n",
    "KID3_serve_time_Thermalbased=pd.read_pickle(path+Folder_name+\"KID3_serve_time_Thermalbased.pkl\")\n",
    "KID7_serve_time_Thermalbased=pd.read_pickle(path+Folder_name+\"KID7_serve_time_Thermalbased.pkl\")\n",
    "KID9_serve_time_Thermalbased=pd.read_pickle(path+Folder_name+\"KID9_serve_time_Thermalbased.pkl\")\n",
    "KID11_serve_time_Thermalbased=pd.read_pickle(path+Folder_name+\"KID11_serve_time_Thermalbased.pkl\")"
   ]
  },
  {
   "cell_type": "markdown",
   "metadata": {},
   "source": [
    "# Each KID servers detail "
   ]
  },
  {
   "cell_type": "code",
   "execution_count": null,
   "metadata": {},
   "outputs": [],
   "source": [
    "Get_DetailsOfKID(KID1_table_CPUbased)"
   ]
  },
  {
   "cell_type": "markdown",
   "metadata": {},
   "source": [
    "# Resampling"
   ]
  },
  {
   "cell_type": "code",
   "execution_count": null,
   "metadata": {
    "scrolled": false
   },
   "outputs": [],
   "source": [
    "sns.set()\n",
    "RR=MakeElapsedTable(Get_allKID(KID1_table_RR, KID3_table_RR, KID7_table_RR, KID9_table_RR, KID11_table_RR, 'CPU_temperature(degC)'))\n",
    "plt.figure(figsize=(8.1, 5))\n",
    "RR.mean(axis=1).plot(label=\"Mean\")\n",
    "RR.max(axis=1).plot(label=\"Max\")\n",
    "plt.ylabel(\"CPU Temperature (degC)\")\n",
    "plt.xlim(50, 350)\n",
    "plt.legend()"
   ]
  },
  {
   "cell_type": "code",
   "execution_count": null,
   "metadata": {},
   "outputs": [],
   "source": [
    "CPU_based=MakeElapsedTable(Get_allKID(KID1_table_CPUbased, KID3_table_CPUbased, KID7_table_CPUbased, KID9_table_CPUbased, KID11_table_CPUbased, 'CPU_temperature(degC)'))\n",
    "plt.figure(figsize=(8.1, 5))\n",
    "CPU_based.mean(axis=1).plot(label=\"Mean\")\n",
    "CPU_based.max(axis=1).plot(label=\"Max\")\n",
    "plt.ylabel(\"CPU Temperature (degC)\")\n",
    "plt.legend()"
   ]
  },
  {
   "cell_type": "code",
   "execution_count": null,
   "metadata": {},
   "outputs": [],
   "source": [
    "Thermal_based=MakeElapsedTable(Get_allKID(KID1_table_Thermalbased, KID3_table_Thermalbased, KID7_table_Thermalbased, KID9_table_Thermalbased, KID11_table_Thermalbased, 'CPU_temperature(degC)'))\n",
    "plt.figure(figsize=(8.1, 5))\n",
    "Thermal_based.mean(axis=1).plot(label=\"Mean\")\n",
    "Thermal_based.max(axis=1).plot(label=\"Max\")\n",
    "plt.ylabel(\"CPU Temperature (degC)\")\n",
    "plt.legend()"
   ]
  },
  {
   "cell_type": "code",
   "execution_count": null,
   "metadata": {},
   "outputs": [],
   "source": [
    "plt.figure(figsize=(8.1, 5))\n",
    "RR.max(axis=1).plot(label=\"Round Robin\")\n",
    "CPU_based.max(axis=1).plot(label=\"CPU utilization based\")\n",
    "Thermal_based.max(axis=1).plot(label=\"CPU temperature based\")\n",
    "plt.ylabel(\"Max CPU Temperature (degC)\")\n",
    "plt.xlim(50, 350)\n",
    "plt.legend()"
   ]
  },
  {
   "cell_type": "code",
   "execution_count": null,
   "metadata": {},
   "outputs": [],
   "source": [
    "plt.figure(figsize=(8.1, 5))\n",
    "RR.mean(axis=1).plot(label=\"Round Robin\")\n",
    "CPU_based.mean(axis=1).plot(label=\"CPU utilization based\")\n",
    "Thermal_based.mean(axis=1).plot(label=\"CPU temperature based\")\n",
    "plt.ylabel(\"Mean CPU Temperature(degC)\")\n",
    "plt.legend()"
   ]
  },
  {
   "cell_type": "code",
   "execution_count": null,
   "metadata": {},
   "outputs": [],
   "source": [
    "RR_fan=MakeElapsedTable(Get_allKID(KID1_table_RR, KID3_table_RR, KID7_table_RR, KID9_table_RR, KID11_table_RR, 'FAN (%)'))\n",
    "CPU_based_fan=MakeElapsedTable(Get_allKID(KID1_table_CPUbased, KID3_table_CPUbased, KID7_table_CPUbased, KID9_table_CPUbased, KID11_table_CPUbased, 'FAN (%)'))\n",
    "Thermal_based_fan=MakeElapsedTable(Get_allKID(KID1_table_Thermalbased, KID3_table_Thermalbased, KID7_table_Thermalbased, KID9_table_Thermalbased, KID11_table_Thermalbased, 'FAN (%)'))\n",
    "\n",
    "plt.figure(figsize=(15, 5))\n",
    "plt.subplot(1, 2, 1)\n",
    "RR_fan.mean(axis=1).plot(label=\"Round Robin\")\n",
    "CPU_based_fan.mean(axis=1).plot(label=\"CPU utilization based\")\n",
    "Thermal_based_fan.mean(axis=1).plot(label=\"CPU temperature based\")\n",
    "plt.ylabel(\"Mean local fan rotation speed (%)\")\n",
    "plt.legend()\n",
    "\n",
    "plt.subplot(1, 2, 2)\n",
    "RR_fan.max(axis=1).plot(label=\"Round Robin\")\n",
    "CPU_based_fan.max(axis=1).plot(label=\"CPU utilization based\")\n",
    "Thermal_based_fan.max(axis=1).plot(label=\"CPU temperature based\")\n",
    "plt.ylabel(\"Max local fan rotation speed (%)\")\n",
    "plt.legend()"
   ]
  },
  {
   "cell_type": "code",
   "execution_count": null,
   "metadata": {},
   "outputs": [],
   "source": [
    "RR_ps=MakeElapsedTable(Get_allKID(KID1_table_RR, KID3_table_RR, KID7_table_RR, KID9_table_RR, KID11_table_RR, 'PS'))\n",
    "CPU_based_ps=MakeElapsedTable(Get_allKID(KID1_table_CPUbased, KID3_table_CPUbased, KID7_table_CPUbased, KID9_table_CPUbased, KID11_table_CPUbased, 'PS'))\n",
    "Thermal_based_ps=MakeElapsedTable(Get_allKID(KID1_table_Thermalbased, KID3_table_Thermalbased, KID7_table_Thermalbased, KID9_table_Thermalbased, KID11_table_Thermalbased, 'PS'))\n",
    "\n",
    "plt.figure(figsize=(8.1, 5))\n",
    "RR_ps.mean(axis=1).plot(label=\"Round Robin\")\n",
    "CPU_based_ps.mean(axis=1).plot(label=\"CPU utilization based\")\n",
    "Thermal_based_ps.mean(axis=1).plot(label=\"CPU temperature based\")\n",
    "plt.ylabel(\"Average CPU utilization (%)\")\n",
    "plt.legend()"
   ]
  },
  {
   "cell_type": "markdown",
   "metadata": {},
   "source": [
    "# Round Robin Histgram"
   ]
  },
  {
   "cell_type": "code",
   "execution_count": null,
   "metadata": {},
   "outputs": [],
   "source": [
    "Get_Latency(df_algo_time_RR)"
   ]
  },
  {
   "cell_type": "code",
   "execution_count": null,
   "metadata": {},
   "outputs": [],
   "source": [
    "RR_hist=Get_aggregation(KID1_table_RR, KID3_table_RR, KID7_table_RR, KID9_table_RR, KID11_table_RR)"
   ]
  },
  {
   "cell_type": "markdown",
   "metadata": {},
   "source": [
    "# CPU utilization based "
   ]
  },
  {
   "cell_type": "code",
   "execution_count": null,
   "metadata": {},
   "outputs": [],
   "source": [
    "Get_Latency(df_algo_time_CPUbased)"
   ]
  },
  {
   "cell_type": "code",
   "execution_count": null,
   "metadata": {},
   "outputs": [],
   "source": [
    "CPU_based_hist=Get_aggregation(KID1_table_CPUbased, KID3_table_CPUbased, KID7_table_CPUbased, KID9_table_CPUbased, KID11_table_CPUbased)"
   ]
  },
  {
   "cell_type": "markdown",
   "metadata": {},
   "source": [
    "# Thermal based "
   ]
  },
  {
   "cell_type": "code",
   "execution_count": null,
   "metadata": {},
   "outputs": [],
   "source": [
    "Get_Latency(df_algo_time_Thermalbased)"
   ]
  },
  {
   "cell_type": "code",
   "execution_count": null,
   "metadata": {},
   "outputs": [],
   "source": [
    "Thermal_based_hist=Get_aggregation(KID1_table_Thermalbased, KID3_table_Thermalbased, KID7_table_Thermalbased, KID9_table_Thermalbased, KID11_table_Thermalbased)"
   ]
  },
  {
   "cell_type": "code",
   "execution_count": null,
   "metadata": {},
   "outputs": [],
   "source": [
    "print(RR_hist.describe(), \"\\n\", CPU_based_hist.describe(),\"\\n\", Thermal_based_hist.describe())"
   ]
  },
  {
   "cell_type": "code",
   "execution_count": null,
   "metadata": {},
   "outputs": [],
   "source": [
    "table_mean=pd.DataFrame({'Round Robin':RR_hist.mean(), \n",
    "               'CPU utilization based':CPU_based_hist.mean(), \n",
    "              'CPU temperature based':Thermal_based_hist.mean()})\n",
    "table_mean.rename(index={'FAN (%)':'Average local fan rotation speed (%)', 'PS':'Average CPU utilization (%)', \n",
    "                         'CPU_utilization':'Average system load', 'CPU_temperature(degC)':'Average CPU temperature (degC)'})"
   ]
  },
  {
   "cell_type": "code",
   "execution_count": null,
   "metadata": {},
   "outputs": [],
   "source": [
    "table_std=pd.DataFrame({'Round Robin':RR_hist.std(), \n",
    "               'CPU utilization based':CPU_based_hist.std(), \n",
    "              'CPU temperature based':Thermal_based_hist.std()})\n",
    "table_std.rename(index={'FAN (%)':'Standard deviation of local fan rotation speed (%)', 'PS':'Standard deviation of average CPU utilization (%)', \n",
    "                         'CPU_utilization':'Standard deviation of average system load', 'CPU_temperature(degC)':'Standard deviation of average CPU temperature (degC)'})"
   ]
  },
  {
   "cell_type": "code",
   "execution_count": null,
   "metadata": {},
   "outputs": [],
   "source": [
    "table_max=pd.DataFrame({'Round Robin':RR_hist.max(), \n",
    "               'CPU utilization based':CPU_based_hist.max(), \n",
    "              'CPU temperature based':Thermal_based_hist.max()})\n",
    "table_max.rename(index={'FAN (%)':'Max local fan rotation speed (%)', 'PS':'Max CPU utilization (%)', \n",
    "                         'CPU_utilization':'Max system load', 'CPU_temperature(degC)':'Max CPU temperature (degC)'})"
   ]
  },
  {
   "cell_type": "markdown",
   "metadata": {},
   "source": [
    "# Histgram evaluation"
   ]
  },
  {
   "cell_type": "code",
   "execution_count": null,
   "metadata": {},
   "outputs": [],
   "source": [
    "# For mean\n",
    "hoge=pd.concat([RR.mean(axis=1), CPU_based.mean(axis=1), Thermal_based.mean(axis=1)], axis=1).sort_index().interpolate()\n",
    "hoge.columns=['RR', 'CPU_based', 'Thermal_based']\n",
    "# Golden ration 1:1.618\n",
    "plt.figure(figsize=(8.1, 5))\n",
    "hoge['RR'].hist(label=\"Round Robin\")\n",
    "hoge['CPU_based'].hist(label=\"CPU utilization based\")\n",
    "hoge['Thermal_based'].hist(label=\"CPU temperature based\")\n",
    "plt.title(\"Average CPU temperature histgram\")\n",
    "plt.xlabel(\"CPU temperature (degC)\")\n",
    "plt.ylabel(\"Frequency\")\n",
    "plt.legend()"
   ]
  },
  {
   "cell_type": "code",
   "execution_count": null,
   "metadata": {},
   "outputs": [],
   "source": [
    "# For max\n",
    "hoge=pd.concat([RR.max(axis=1), CPU_based.max(axis=1), Thermal_based.max(axis=1)], axis=1).sort_index().interpolate()\n",
    "hoge.columns=['RR', 'CPU_based', 'Thermal_based']\n",
    "plt.figure(figsize=(8.1, 5))\n",
    "hoge['RR'].hist(label=\"Round Robin\")\n",
    "hoge['CPU_based'].hist(label=\"CPU utilization based\")\n",
    "hoge['Thermal_based'].hist(label=\"CPU temperature based\")\n",
    "plt.title(\"Max CPU temperature histgram\")\n",
    "plt.xlabel(\"CPU temperature (degC)\")\n",
    "plt.ylabel(\"Frequency\")\n",
    "plt.legend()"
   ]
  },
  {
   "cell_type": "code",
   "execution_count": null,
   "metadata": {},
   "outputs": [],
   "source": [
    "print(len(RR_hist), len(CPU_based_hist), len(Thermal_based_hist))"
   ]
  },
  {
   "cell_type": "code",
   "execution_count": null,
   "metadata": {},
   "outputs": [],
   "source": [
    "# For all \n",
    "\"\"\" The problem is that each method has different frequency\"\"\"\n",
    "plt.figure(figsize=(8.1, 5))\n",
    "RR_hist['CPU_temperature(degC)'].hist(label=\"Round Robin\")\n",
    "CPU_based_hist['CPU_temperature(degC)'].hist(label=\"CPU utilization based\")\n",
    "Thermal_based_hist['CPU_temperature(degC)'].hist(label=\"CPU temperature based\")\n",
    "plt.title(\"Whole CPU temperature histgram\")\n",
    "plt.xlabel(\"CPU temperature (degC)\")\n",
    "plt.ylabel(\"Frequency\")\n",
    "plt.legend()"
   ]
  },
  {
   "cell_type": "code",
   "execution_count": null,
   "metadata": {},
   "outputs": [],
   "source": [
    "# For mean\n",
    "hoge=pd.concat([RR_fan.mean(axis=1), CPU_based_fan.mean(axis=1), Thermal_based_fan.mean(axis=1)], axis=1).sort_index().interpolate()\n",
    "hoge.columns=['RR', 'CPU_based', 'Thermal_based']\n",
    "plt.figure(figsize=(8.1, 5))\n",
    "hoge['RR'].hist(label=\"Round Robin\")\n",
    "hoge['CPU_based'].hist(label=\"CPU utilization based\")\n",
    "hoge['Thermal_based'].hist(label=\"CPU temperature based\")\n",
    "plt.title(\"Average FAN rotation speed histgram\")\n",
    "plt.xlabel(\"Fan rotation speed(%)\")\n",
    "plt.ylabel(\"Frequency\")\n",
    "plt.legend()"
   ]
  },
  {
   "cell_type": "code",
   "execution_count": null,
   "metadata": {},
   "outputs": [],
   "source": [
    "# For max\n",
    "hoge=pd.concat([RR_fan.max(axis=1), CPU_based_fan.max(axis=1), Thermal_based_fan.max(axis=1)], axis=1).sort_index().interpolate()\n",
    "hoge.columns=['RR', 'CPU_based', 'Thermal_based']\n",
    "plt.figure(figsize=(8.1, 5))\n",
    "hoge['RR'].hist(label=\"Round Robin\")\n",
    "hoge['CPU_based'].hist(label=\"CPU utilization based\")\n",
    "hoge['Thermal_based'].hist(label=\"CPU temperature based\")\n",
    "plt.title(\"Average FAN rotation speed histgram\")\n",
    "plt.xlabel(\"Fan rotation speed(%)\")\n",
    "plt.ylabel(\"Frequency\")\n",
    "plt.legend()"
   ]
  },
  {
   "cell_type": "code",
   "execution_count": null,
   "metadata": {},
   "outputs": [],
   "source": [
    "# For all \n",
    "\"\"\" The problem is that each method has different frequency\"\"\"\n",
    "plt.figure(figsize=(8.1, 5))\n",
    "RR_hist['FAN (%)'].hist(label=\"Round Robin\")\n",
    "CPU_based_hist['FAN (%)'].hist(label=\"CPU utilization based\")\n",
    "Thermal_based_hist['FAN (%)'].hist(label=\"CPU temperature based\")\n",
    "plt.title(\"Whole FAN rotation speed histgram\")\n",
    "plt.xlabel(\"Local fan rotation speed (%)\")\n",
    "plt.ylabel(\"Frequency\")\n",
    "plt.legend()"
   ]
  },
  {
   "cell_type": "markdown",
   "metadata": {},
   "source": [
    "# Server Process time evaluation"
   ]
  },
  {
   "cell_type": "code",
   "execution_count": null,
   "metadata": {},
   "outputs": [],
   "source": [
    "RR_servetime=Get_aggregation(KID1_serve_time_RR, KID3_serve_time_RR, KID7_serve_time_RR, KID9_serve_time_RR, KID11_serve_time_RR).mean()"
   ]
  },
  {
   "cell_type": "code",
   "execution_count": null,
   "metadata": {},
   "outputs": [],
   "source": [
    "CPUbaseds_servetime=Get_aggregation(KID1_serve_time_CPUbased, KID3_serve_time_CPUbased, KID7_serve_time_CPUbased, KID9_serve_time_CPUbased, KID11_serve_time_CPUbased).mean()"
   ]
  },
  {
   "cell_type": "code",
   "execution_count": null,
   "metadata": {},
   "outputs": [],
   "source": [
    "Thermalbased_servetime=Get_aggregation(KID1_serve_time_Thermalbased, KID3_serve_time_Thermalbased, KID7_serve_time_Thermalbased, KID9_serve_time_Thermalbased, KID11_serve_time_Thermalbased).mean()"
   ]
  },
  {
   "cell_type": "code",
   "execution_count": null,
   "metadata": {},
   "outputs": [],
   "source": [
    "(RR_servetime+CPUbaseds_servetime+Thermalbased_servetime)/3"
   ]
  },
  {
   "cell_type": "code",
   "execution_count": null,
   "metadata": {},
   "outputs": [],
   "source": [
    "df_servetime=pd.DataFrame({'Round Robin':\n",
    "                 pd.concat([KID1_serve_time_RR, KID3_serve_time_RR, KID7_serve_time_RR, KID9_serve_time_RR, KID11_serve_time_RR]).mean(),\n",
    "                 'CPU Utilization based':\n",
    "                 pd.concat([KID1_serve_time_CPUbased, KID3_serve_time_CPUbased, KID7_serve_time_CPUbased, KID9_serve_time_CPUbased, KID11_serve_time_CPUbased]).mean(),\n",
    "                 'CPU temperature based':\n",
    "                 pd.concat([KID1_serve_time_Thermalbased, KID3_serve_time_Thermalbased, KID7_serve_time_Thermalbased, KID9_serve_time_Thermalbased, KID11_serve_time_Thermalbased]).mean()\n",
    "                })\n",
    "\n",
    "df_algotime=pd.DataFrame({'Round Robin':\n",
    "                 df_algo_time_RR.mean()-1,\n",
    "                 'CPU Utilization based':\n",
    "                 df_algo_time_CPUbased.mean()-1,\n",
    "                 'CPU temperature based':\n",
    "                 df_algo_time_Thermalbased.mean()-1\n",
    "                })\n",
    "table_time=pd.concat([df_algotime, df_servetime])\n",
    "#table_time.index.names=['Average algorithm latency time (s)', 'Average server processing time (s)']\n",
    "table_time.rename(index={'Latency (s)':'Average queueing latency time (s)', 'Server Processing time (s)':'Average server processing time (s)'})"
   ]
  }
 ],
 "metadata": {
  "kernelspec": {
   "display_name": "Python 3",
   "language": "python",
   "name": "python3"
  },
  "language_info": {
   "codemirror_mode": {
    "name": "ipython",
    "version": 3
   },
   "file_extension": ".py",
   "mimetype": "text/x-python",
   "name": "python",
   "nbconvert_exporter": "python",
   "pygments_lexer": "ipython3",
   "version": "3.7.0"
  }
 },
 "nbformat": 4,
 "nbformat_minor": 2
}
