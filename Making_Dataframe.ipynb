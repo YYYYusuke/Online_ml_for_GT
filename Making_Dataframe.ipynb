{
 "cells": [
  {
   "cell_type": "code",
   "execution_count": 87,
   "metadata": {},
   "outputs": [],
   "source": [
    "import pandas as pd \n",
    "import numpy as np\n",
    "import os      \n",
    "import matplotlib.pyplot as plt\n",
    "import seaborn as sns"
   ]
  },
  {
   "cell_type": "code",
   "execution_count": 88,
   "metadata": {},
   "outputs": [],
   "source": [
    "def Get_table(KID_NAME):\n",
    "    global df_algo_time\n",
    "    try:\n",
    "        df_algo_time=pd.read_csv(\"/home/nakajo/GT_Kids/\"+ KID_NAME+\"/local_logs/algo_time.csv\", header=None, names=[\"Latency (s)\"])\n",
    "    except:\n",
    "        print(\"This file does not have an algorithm time.\")\n",
    "    df_fan=pd.read_csv(\"/home/nakajo/GT_Kids/\"+ KID_NAME+\"/local_logs/FANtest.csv\", header=None, names=['time (s)', 'FAN (%)'])\n",
    "    df_PS=pd.read_csv(\"/home/nakajo/GT_Kids/\"+ KID_NAME+\"/local_logs/PStest.csv\", header=None, names=['time (s)', 'PS'])\n",
    "    df_CPU_util=pd.read_csv(\"/home/nakajo/GT_Kids/\"+ KID_NAME+\"/local_logs/CPU_util_test.csv\", header=None, names=['time (s)', 'CPU_utilization'])\n",
    "    df_sensors_temp=pd.read_csv(\"/home/nakajo/GT_Kids/\"+ KID_NAME+\"/local_logs/CPU_temp_sensorstest.csv\", header=None, names=['time (s)', 'CPU_temperature(degC)'])\n",
    "    A=pd.merge(df_fan, df_PS, on='time (s)', how='outer')\n",
    "    B=pd.merge(df_CPU_util, df_sensors_temp, on='time (s)', how='outer')\n",
    "    KID_table=pd.merge(A, B, on='time (s)', how='outer').set_index('time (s)')\n",
    "    return KID_table\n",
    "\n",
    "def GetServeTime(KID_NAME):\n",
    "    df_serve_time=pd.read_csv(\"/home/nakajo/GT_Kids/\"+ KID_NAME+\"/local_logs/serve_time.csv\", header=None, names=[\"Server Processing time (s)\"])\n",
    "    return df_serve_time\n",
    "\n",
    "def GetServeTimePD():\n",
    "    KID1_serve_time=GetServeTime(\"KID1\")\n",
    "    KID3_serve_time=GetServeTime(\"KID3\")\n",
    "    KID7_serve_time=GetServeTime(\"KID7\")\n",
    "    KID9_serve_time=GetServeTime(\"KID9\")\n",
    "    KID11_serve_time=GetServeTime(\"KID11\")\n",
    "    servetime_df=pd.concat([KID1_serve_time, KID3_serve_time, KID7_serve_time, KID9_serve_time, KID11_serve_time], axis=1)\n",
    "    servetime_df.columns=['KID1_serve_time', 'KID3_serve_time', 'KID7_serve_time', 'KID9_serve_time', 'KID11_serve_time']\n",
    "    \n",
    "    KID1_job_intensity=GetJobIntensity(\"KID1\")\n",
    "    KID3_job_intensity=GetJobIntensity(\"KID3\")\n",
    "    KID7_job_intensity=GetJobIntensity(\"KID7\")\n",
    "    KID9_job_intensity=GetJobIntensity(\"KID9\")\n",
    "    KID11_job_intensity=GetJobIntensity(\"KID11\")\n",
    "    job_inte_df=pd.concat([KID1_job_intensity, KID3_job_intensity, KID7_job_intensity, KID9_job_intensity, KID11_job_intensity], axis=1)\n",
    "    job_inte_df.columns=['KID1_jobs', 'KID3_jobs', 'KID7_jobs', 'KID9_jobs', 'KID11_jobs']\n",
    "    \n",
    "    KID1_timestamp=GetJobStamp(\"KID1\")\n",
    "    KID3_timestamp=GetJobStamp(\"KID3\")\n",
    "    KID7_timestamp=GetJobStamp(\"KID7\")\n",
    "    KID9_timestamp=GetJobStamp(\"KID9\")\n",
    "    KID11_timestamp=GetJobStamp(\"KID11\")\n",
    "    timestamp_df=pd.concat([KID1_timestamp, KID3_timestamp, KID7_timestamp, KID9_timestamp, KID11_timestamp], axis=1)\n",
    "    timestamp_df.columns=['KID1_timestamp', 'KID3_timestamp', 'KID7_timestamp', 'KID9_timestamp', 'KID11_timestamp']\n",
    "    \n",
    "    return pd.concat([timestamp_df, servetime_df, job_inte_df], axis=1)\n",
    "    \n",
    "\n",
    "def GetJobIntensity(KID_NAME):\n",
    "    df_job_intensity=pd.read_csv(\"/home/nakajo/GT_Kids/\"+ KID_NAME+\"/local_logs/job_intensity.csv\", header=None, names=[\"Job_intensity\"])\n",
    "    return df_job_intensity\n",
    "\n",
    "def GetJobStamp(KID_NAME):\n",
    "    df_job_timestamp=pd.read_csv(\"/home/nakajo/GT_Kids/\"+ KID_NAME+\"/local_logs/process_timestamp.csv\", header=None, names=[\"Timestamp\"])\n",
    "    return df_job_timestamp\n",
    "\n",
    "def Get_Latency():\n",
    "    print(df_algo_time.describe())\n",
    "    sns.set()\n",
    "    df_algo_time.hist()\n",
    "    plt.xlabel(\"Time(s)\")\n",
    "    plt.ylabel(\"Frequency\")\n",
    "    return df_algo_time.mean()\n",
    "    \n",
    "def Get_DetailsOfKID(KID_table):\n",
    "    sns.set()\n",
    "    KID_table.plot()\n",
    "    KID_table.hist()\n",
    "    print(KID_table.describe())\n",
    "    \n",
    "def Get_Elapsed_time(KID_table):\n",
    "    elapsed_time=[]\n",
    "    for i in range(len(KID_table)):\n",
    "        time=KID_table.index[i]-KID_table.index[0]\n",
    "        elapsed_time.append(time)\n",
    "    return elapsed_time"
   ]
  },
  {
   "cell_type": "markdown",
   "metadata": {},
   "source": [
    "# [Important] When you have finished the experiment, then you can run one of the three blocks which corresponds to the one you conducted ."
   ]
  },
  {
   "cell_type": "code",
   "execution_count": 89,
   "metadata": {
    "scrolled": true
   },
   "outputs": [
    {
     "name": "stdout",
     "output_type": "stream",
     "text": [
      "This file does not have an algorithm time.\n",
      "This file does not have an algorithm time.\n",
      "This file does not have an algorithm time.\n",
      "This file does not have an algorithm time.\n"
     ]
    },
    {
     "data": {
      "text/plain": [
       "Latency (s)    1.001558\n",
       "dtype: float64"
      ]
     },
     "execution_count": 89,
     "metadata": {},
     "output_type": "execute_result"
    }
   ],
   "source": [
    "# (Dont change)For RR\n",
    "KID1_table_RR=Get_table(\"KID1\").sort_index().interpolate()\n",
    "KID3_table_RR=Get_table(\"KID3\").sort_index().interpolate()\n",
    "KID7_table_RR=Get_table(\"KID7\").sort_index().interpolate()\n",
    "KID9_table_RR=Get_table(\"KID9\").sort_index().interpolate()\n",
    "KID11_table_RR=Get_table(\"KID11\").sort_index().interpolate()\n",
    "df_algo_time_RR=df_algo_time\n",
    "KID1_serve_time_RR=GetServeTime(\"KID1\")\n",
    "KID3_serve_time_RR=GetServeTime(\"KID3\")\n",
    "KID7_serve_time_RR=GetServeTime(\"KID7\")\n",
    "KID9_serve_time_RR=GetServeTime(\"KID9\")\n",
    "df_jobs_RR=GetServeTimePD()\n",
    "\n",
    "df_algo_time_RR.mean()"
   ]
  },
  {
   "cell_type": "code",
   "execution_count": 90,
   "metadata": {},
   "outputs": [
    {
     "data": {
      "text/plain": [
       "index                         72.076923\n",
       "Server Processing time (s)     1.818728\n",
       "dtype: float64"
      ]
     },
     "execution_count": 90,
     "metadata": {},
     "output_type": "execute_result"
    }
   ],
   "source": [
    "RR_serve_time=pd.concat([KID1_serve_time_RR, KID3_serve_time_RR, \n",
    "           KID7_serve_time_RR, KID9_serve_time_RR, \n",
    "           KID11_serve_time_RR]).reset_index()\n",
    "\n",
    "RR_serve_time.mean()"
   ]
  },
  {
   "cell_type": "code",
   "execution_count": 91,
   "metadata": {
    "scrolled": true
   },
   "outputs": [
    {
     "name": "stdout",
     "output_type": "stream",
     "text": [
      "This file does not have an algorithm time.\n",
      "This file does not have an algorithm time.\n",
      "This file does not have an algorithm time.\n",
      "This file does not have an algorithm time.\n"
     ]
    },
    {
     "data": {
      "text/plain": [
       "Latency (s)    1.001558\n",
       "dtype: float64"
      ]
     },
     "execution_count": 91,
     "metadata": {},
     "output_type": "execute_result"
    }
   ],
   "source": [
    "# (Dont change)For CPU-based\n",
    "KID1_table_CPUbased=Get_table(\"KID1\").sort_index().interpolate()\n",
    "KID3_table_CPUbased=Get_table(\"KID3\").sort_index().interpolate()\n",
    "KID7_table_CPUbased=Get_table(\"KID7\").sort_index().interpolate()\n",
    "KID9_table_CPUbased=Get_table(\"KID9\").sort_index().interpolate()\n",
    "KID11_table_CPUbased=Get_table(\"KID11\").sort_index().interpolate()\n",
    "df_algo_time_CPUbased=df_algo_time\n",
    "KID1_serve_time_CPUbased=GetServeTime(\"KID1\")\n",
    "KID3_serve_time_CPUbased=GetServeTime(\"KID3\")\n",
    "KID7_serve_time_CPUbased=GetServeTime(\"KID7\")\n",
    "KID9_serve_time_CPUbased=GetServeTime(\"KID9\")\n",
    "KID11_serve_time_CPUbased=GetServeTime(\"KID11\")\n",
    "df_jobs_CPUbased=GetServeTimePD()\n",
    "\n",
    "df_algo_time_CPUbased.mean()"
   ]
  },
  {
   "cell_type": "code",
   "execution_count": 92,
   "metadata": {},
   "outputs": [
    {
     "data": {
      "text/plain": [
       "index                         74.500000\n",
       "Server Processing time (s)     1.647336\n",
       "dtype: float64"
      ]
     },
     "execution_count": 92,
     "metadata": {},
     "output_type": "execute_result"
    }
   ],
   "source": [
    "CPUbased_serve_time=pd.concat([KID1_serve_time_CPUbased, KID3_serve_time_CPUbased, \n",
    "           KID7_serve_time_CPUbased, KID9_serve_time_CPUbased, \n",
    "           KID11_serve_time_CPUbased]).reset_index()\n",
    "\n",
    "CPUbased_serve_time.mean()"
   ]
  },
  {
   "cell_type": "code",
   "execution_count": 93,
   "metadata": {
    "scrolled": false
   },
   "outputs": [
    {
     "name": "stdout",
     "output_type": "stream",
     "text": [
      "This file does not have an algorithm time.\n",
      "This file does not have an algorithm time.\n",
      "This file does not have an algorithm time.\n",
      "This file does not have an algorithm time.\n"
     ]
    },
    {
     "data": {
      "text/plain": [
       "Latency (s)    1.001558\n",
       "dtype: float64"
      ]
     },
     "execution_count": 93,
     "metadata": {},
     "output_type": "execute_result"
    }
   ],
   "source": [
    "# (Dont change)For Thermal-based\n",
    "KID1_table_Thermalbased=Get_table(\"KID1\").sort_index().interpolate()\n",
    "KID3_table_Thermalbased=Get_table(\"KID3\").sort_index().interpolate()\n",
    "KID7_table_Thermalbased=Get_table(\"KID7\").sort_index().interpolate()\n",
    "KID9_table_Thermalbased=Get_table(\"KID9\").sort_index().interpolate()\n",
    "KID11_table_Thermalbased=Get_table(\"KID11\").sort_index().interpolate()\n",
    "df_algo_time_Thermalbased=df_algo_time\n",
    "KID1_serve_time_Thermalbased=GetServeTime(\"KID1\")\n",
    "KID3_serve_time_Thermalbased=GetServeTime(\"KID3\")\n",
    "KID7_serve_time_Thermalbased=GetServeTime(\"KID7\")\n",
    "KID9_serve_time_Thermalbased=GetServeTime(\"KID9\")\n",
    "KID11_serve_time_Thermalbased=GetServeTime(\"KID11\")\n",
    "df_jobs_Thermalbased=GetServeTimePD()\n",
    "\n",
    "df_algo_time_Thermalbased.mean()"
   ]
  },
  {
   "cell_type": "code",
   "execution_count": 94,
   "metadata": {},
   "outputs": [
    {
     "data": {
      "text/plain": [
       "index                         74.500000\n",
       "Server Processing time (s)     1.647336\n",
       "dtype: float64"
      ]
     },
     "execution_count": 94,
     "metadata": {},
     "output_type": "execute_result"
    }
   ],
   "source": [
    "Thermalbased_serve_time=pd.concat([KID1_serve_time_Thermalbased, KID3_serve_time_Thermalbased,\n",
    "           KID7_serve_time_Thermalbased, KID9_serve_time_Thermalbased, \n",
    "           KID11_serve_time_Thermalbased]).reset_index()\n",
    "\n",
    "Thermalbased_serve_time.mean()"
   ]
  },
  {
   "cell_type": "markdown",
   "metadata": {},
   "source": [
    "# Once you have done making all tables, then you can run the following Storing Data scripts."
   ]
  },
  {
   "cell_type": "markdown",
   "metadata": {},
   "source": [
    "# Storing Data\n",
    "\n"
   ]
  },
  {
   "cell_type": "code",
   "execution_count": 95,
   "metadata": {},
   "outputs": [],
   "source": [
    "import os \n",
    "import shutil"
   ]
  },
  {
   "cell_type": "code",
   "execution_count": 96,
   "metadata": {},
   "outputs": [],
   "source": [
    "def StoreTable(Table, Table_name):\n",
    "    Table.to_pickle(\"/home/nakajo/GT_Kids/Results/\"+Table_name+\".pkl\")\n",
    "\n",
    "def GetPKLfiles():\n",
    "    files=[]\n",
    "    path=\"/home/nakajo/GT_Kids/Results/\"\n",
    "    for file in os.listdir():\n",
    "        if os.path.isdir(path+file):\n",
    "            pass\n",
    "        else:\n",
    "            files.append(file)\n",
    "    return files\n",
    "    \n",
    "def MoveToFolder(Folder_name):\n",
    "    path=\"/home/nakajo/GT_Kids/Results/\"\n",
    "    os.chdir(path)\n",
    "    os.makedirs(Folder_name)\n",
    "    files=GetPKLfiles()\n",
    "    \n",
    "    for pklfile in files:\n",
    "        shutil.move(path+pklfile, path+Folder_name)\n",
    "    os.chdir(path+Folder_name)\n",
    "    shutil.copy('Anlysis_Template.ipynb', path)"
   ]
  },
  {
   "cell_type": "code",
   "execution_count": 97,
   "metadata": {
    "scrolled": true
   },
   "outputs": [],
   "source": [
    "StoreTable(KID1_table_RR, \"KID1_RR\")\n",
    "StoreTable(KID3_table_RR, \"KID3_RR\")\n",
    "StoreTable(KID7_table_RR, \"KID7_RR\")\n",
    "StoreTable(KID9_table_RR, \"KID9_RR\")\n",
    "StoreTable(KID11_table_RR, \"KID11_RR\")\n",
    "StoreTable(df_algo_time_RR, \"df_algo_time_RR\")\n",
    "StoreTable(KID1_serve_time_RR, \"KID1_serve_time_RR\")\n",
    "StoreTable(KID3_serve_time_RR, \"KID3_serve_time_RR\")\n",
    "StoreTable(KID7_serve_time_RR, \"KID7_serve_time_RR\")\n",
    "StoreTable(KID9_serve_time_RR, \"KID9_serve_time_RR\")\n",
    "StoreTable(KID11_serve_time_RR, \"KID11_serve_time_RR\")\n",
    "StoreTable(df_jobs_RR, \"df_jobs_RR\")\n",
    "\n",
    "\n",
    "StoreTable(KID1_table_CPUbased, \"KID1_CPUbased\")\n",
    "StoreTable(KID3_table_CPUbased, \"KID3_CPUbased\")\n",
    "StoreTable(KID7_table_CPUbased, \"KID7_CPUbased\")\n",
    "StoreTable(KID9_table_CPUbased, \"KID9_CPUbased\")\n",
    "StoreTable(KID11_table_CPUbased, \"KID11_CPUbased\")\n",
    "StoreTable(df_algo_time_CPUbased, \"df_algo_time_CPUbased\")\n",
    "StoreTable(KID1_serve_time_CPUbased, \"KID1_serve_time_CPUbased\")\n",
    "StoreTable(KID3_serve_time_CPUbased, \"KID3_serve_time_CPUbased\")\n",
    "StoreTable(KID7_serve_time_CPUbased, \"KID7_serve_time_CPUbased\")\n",
    "StoreTable(KID9_serve_time_CPUbased, \"KID9_serve_time_CPUbased\")\n",
    "StoreTable(KID11_serve_time_CPUbased, \"KID11_serve_time_CPUbased\")\n",
    "StoreTable(df_jobs_CPUbased, \"df_jobs_CPUbased\")\n",
    "\n",
    "StoreTable(KID1_table_Thermalbased, \"KID1_Thermalbased\")\n",
    "StoreTable(KID3_table_Thermalbased, \"KID3_Thermalbased\")\n",
    "StoreTable(KID7_table_Thermalbased, \"KID7_Thermalbased\")\n",
    "StoreTable(KID9_table_Thermalbased, \"KID9_Thermalbased\")\n",
    "StoreTable(KID11_table_Thermalbased, \"KID11_Thermalbased\")\n",
    "StoreTable(df_algo_time_Thermalbased, \"df_algo_time_Thermalbased\")\n",
    "StoreTable(KID1_serve_time_Thermalbased, \"KID1_serve_time_Thermalbased\")\n",
    "StoreTable(KID3_serve_time_Thermalbased, \"KID3_serve_time_Thermalbased\")\n",
    "StoreTable(KID7_serve_time_Thermalbased, \"KID7_serve_time_Thermalbased\")\n",
    "StoreTable(KID9_serve_time_Thermalbased, \"KID9_serve_time_Thermalbased\")\n",
    "StoreTable(KID11_serve_time_Thermalbased, \"KID11_serve_time_Thermalbased\")\n",
    "StoreTable(df_jobs_Thermalbased, \"df_jobs_Thermalbased\")"
   ]
  },
  {
   "cell_type": "code",
   "execution_count": 98,
   "metadata": {},
   "outputs": [],
   "source": [
    "Folder_name=\"Test_ver1\"  # Assign folder name\n",
    "MoveToFolder(Folder_name) "
   ]
  },
  {
   "cell_type": "code",
   "execution_count": null,
   "metadata": {},
   "outputs": [],
   "source": []
  }
 ],
 "metadata": {
  "kernelspec": {
   "display_name": "Python 3",
   "language": "python",
   "name": "python3"
  },
  "language_info": {
   "codemirror_mode": {
    "name": "ipython",
    "version": 3
   },
   "file_extension": ".py",
   "mimetype": "text/x-python",
   "name": "python",
   "nbconvert_exporter": "python",
   "pygments_lexer": "ipython3",
   "version": "3.6.5"
  }
 },
 "nbformat": 4,
 "nbformat_minor": 2
}
